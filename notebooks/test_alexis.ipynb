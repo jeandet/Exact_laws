{
 "cells": [
  {
   "cell_type": "code",
   "execution_count": 5,
   "id": "b9e2092a-072e-49fe-80ce-7a98bb4b8578",
   "metadata": {
    "execution": {
     "iopub.execute_input": "2022-07-08T17:24:42.214654Z",
     "iopub.status.busy": "2022-07-08T17:24:42.214521Z",
     "iopub.status.idle": "2022-07-08T17:29:41.377905Z",
     "shell.execute_reply": "2022-07-08T17:29:41.377460Z",
     "shell.execute_reply.started": "2022-07-08T17:24:42.214640Z"
    },
    "tags": []
   },
   "outputs": [],
   "source": [
    "!python ./code1/src/Data_process.py"
   ]
  },
  {
   "cell_type": "code",
   "execution_count": 8,
   "id": "3a1ec2bc-ce5e-40dd-b30b-344c5a0fb72e",
   "metadata": {
    "collapsed": true,
    "execution": {
     "iopub.execute_input": "2022-07-08T17:45:39.181818Z",
     "iopub.status.busy": "2022-07-08T17:45:39.181649Z",
     "iopub.status.idle": "2022-07-08T17:45:44.927318Z",
     "shell.execute_reply": "2022-07-08T17:45:44.926859Z",
     "shell.execute_reply.started": "2022-07-08T17:45:39.181801Z"
    },
    "jupyter": {
     "outputs_hidden": true
    },
    "tags": []
   },
   "outputs": [
    {
     "name": "stdout",
     "output_type": "stream",
     "text": [
      "Defaulting to user installation because normal site-packages is not writeable\n",
      "Collecting mpi4py\n",
      "  Using cached mpi4py-3.1.3.tar.gz (2.5 MB)\n",
      "  Installing build dependencies ... \u001b[?25ldone\n",
      "\u001b[?25h  Getting requirements to build wheel ... \u001b[?25ldone\n",
      "\u001b[?25h  Preparing metadata (pyproject.toml) ... \u001b[?25ldone\n",
      "\u001b[?25hBuilding wheels for collected packages: mpi4py\n",
      "  Building wheel for mpi4py (pyproject.toml) ... \u001b[?25lerror\n",
      "  \u001b[1;31merror\u001b[0m: \u001b[1msubprocess-exited-with-error\u001b[0m\n",
      "  \n",
      "  \u001b[31m×\u001b[0m \u001b[32mBuilding wheel for mpi4py \u001b[0m\u001b[1;32m(\u001b[0m\u001b[32mpyproject.toml\u001b[0m\u001b[1;32m)\u001b[0m did not run successfully.\n",
      "  \u001b[31m│\u001b[0m exit code: \u001b[1;36m1\u001b[0m\n",
      "  \u001b[31m╰─>\u001b[0m \u001b[31m[148 lines of output]\u001b[0m\n",
      "  \u001b[31m   \u001b[0m running bdist_wheel\n",
      "  \u001b[31m   \u001b[0m running build\n",
      "  \u001b[31m   \u001b[0m running build_src\n",
      "  \u001b[31m   \u001b[0m running build_py\n",
      "  \u001b[31m   \u001b[0m creating build\n",
      "  \u001b[31m   \u001b[0m creating build/lib.linux-x86_64-cpython-39\n",
      "  \u001b[31m   \u001b[0m creating build/lib.linux-x86_64-cpython-39/mpi4py\n",
      "  \u001b[31m   \u001b[0m copying src/mpi4py/__init__.py -> build/lib.linux-x86_64-cpython-39/mpi4py\n",
      "  \u001b[31m   \u001b[0m copying src/mpi4py/__main__.py -> build/lib.linux-x86_64-cpython-39/mpi4py\n",
      "  \u001b[31m   \u001b[0m copying src/mpi4py/bench.py -> build/lib.linux-x86_64-cpython-39/mpi4py\n",
      "  \u001b[31m   \u001b[0m copying src/mpi4py/run.py -> build/lib.linux-x86_64-cpython-39/mpi4py\n",
      "  \u001b[31m   \u001b[0m creating build/lib.linux-x86_64-cpython-39/mpi4py/futures\n",
      "  \u001b[31m   \u001b[0m copying src/mpi4py/futures/__init__.py -> build/lib.linux-x86_64-cpython-39/mpi4py/futures\n",
      "  \u001b[31m   \u001b[0m copying src/mpi4py/futures/__main__.py -> build/lib.linux-x86_64-cpython-39/mpi4py/futures\n",
      "  \u001b[31m   \u001b[0m copying src/mpi4py/futures/_base.py -> build/lib.linux-x86_64-cpython-39/mpi4py/futures\n",
      "  \u001b[31m   \u001b[0m copying src/mpi4py/futures/_core.py -> build/lib.linux-x86_64-cpython-39/mpi4py/futures\n",
      "  \u001b[31m   \u001b[0m copying src/mpi4py/futures/_lib.py -> build/lib.linux-x86_64-cpython-39/mpi4py/futures\n",
      "  \u001b[31m   \u001b[0m copying src/mpi4py/futures/aplus.py -> build/lib.linux-x86_64-cpython-39/mpi4py/futures\n",
      "  \u001b[31m   \u001b[0m copying src/mpi4py/futures/pool.py -> build/lib.linux-x86_64-cpython-39/mpi4py/futures\n",
      "  \u001b[31m   \u001b[0m copying src/mpi4py/futures/server.py -> build/lib.linux-x86_64-cpython-39/mpi4py/futures\n",
      "  \u001b[31m   \u001b[0m creating build/lib.linux-x86_64-cpython-39/mpi4py/util\n",
      "  \u001b[31m   \u001b[0m copying src/mpi4py/util/__init__.py -> build/lib.linux-x86_64-cpython-39/mpi4py/util\n",
      "  \u001b[31m   \u001b[0m copying src/mpi4py/util/dtlib.py -> build/lib.linux-x86_64-cpython-39/mpi4py/util\n",
      "  \u001b[31m   \u001b[0m copying src/mpi4py/util/pkl5.py -> build/lib.linux-x86_64-cpython-39/mpi4py/util\n",
      "  \u001b[31m   \u001b[0m copying src/mpi4py/py.typed -> build/lib.linux-x86_64-cpython-39/mpi4py\n",
      "  \u001b[31m   \u001b[0m copying src/mpi4py/MPI.pyi -> build/lib.linux-x86_64-cpython-39/mpi4py\n",
      "  \u001b[31m   \u001b[0m copying src/mpi4py/__init__.pyi -> build/lib.linux-x86_64-cpython-39/mpi4py\n",
      "  \u001b[31m   \u001b[0m copying src/mpi4py/__main__.pyi -> build/lib.linux-x86_64-cpython-39/mpi4py\n",
      "  \u001b[31m   \u001b[0m copying src/mpi4py/bench.pyi -> build/lib.linux-x86_64-cpython-39/mpi4py\n",
      "  \u001b[31m   \u001b[0m copying src/mpi4py/dl.pyi -> build/lib.linux-x86_64-cpython-39/mpi4py\n",
      "  \u001b[31m   \u001b[0m copying src/mpi4py/run.pyi -> build/lib.linux-x86_64-cpython-39/mpi4py\n",
      "  \u001b[31m   \u001b[0m copying src/mpi4py/MPI.pxd -> build/lib.linux-x86_64-cpython-39/mpi4py\n",
      "  \u001b[31m   \u001b[0m copying src/mpi4py/__init__.pxd -> build/lib.linux-x86_64-cpython-39/mpi4py\n",
      "  \u001b[31m   \u001b[0m copying src/mpi4py/libmpi.pxd -> build/lib.linux-x86_64-cpython-39/mpi4py\n",
      "  \u001b[31m   \u001b[0m creating build/lib.linux-x86_64-cpython-39/mpi4py/include\n",
      "  \u001b[31m   \u001b[0m creating build/lib.linux-x86_64-cpython-39/mpi4py/include/mpi4py\n",
      "  \u001b[31m   \u001b[0m copying src/mpi4py/include/mpi4py/mpi4py.MPI.h -> build/lib.linux-x86_64-cpython-39/mpi4py/include/mpi4py\n",
      "  \u001b[31m   \u001b[0m copying src/mpi4py/include/mpi4py/mpi4py.MPI_api.h -> build/lib.linux-x86_64-cpython-39/mpi4py/include/mpi4py\n",
      "  \u001b[31m   \u001b[0m copying src/mpi4py/include/mpi4py/mpi4py.h -> build/lib.linux-x86_64-cpython-39/mpi4py/include/mpi4py\n",
      "  \u001b[31m   \u001b[0m copying src/mpi4py/include/mpi4py/mpi4py.i -> build/lib.linux-x86_64-cpython-39/mpi4py/include/mpi4py\n",
      "  \u001b[31m   \u001b[0m copying src/mpi4py/include/mpi4py/mpi.pxi -> build/lib.linux-x86_64-cpython-39/mpi4py/include/mpi4py\n",
      "  \u001b[31m   \u001b[0m copying src/mpi4py/futures/__init__.pyi -> build/lib.linux-x86_64-cpython-39/mpi4py/futures\n",
      "  \u001b[31m   \u001b[0m copying src/mpi4py/futures/__main__.pyi -> build/lib.linux-x86_64-cpython-39/mpi4py/futures\n",
      "  \u001b[31m   \u001b[0m copying src/mpi4py/futures/_core.pyi -> build/lib.linux-x86_64-cpython-39/mpi4py/futures\n",
      "  \u001b[31m   \u001b[0m copying src/mpi4py/futures/_lib.pyi -> build/lib.linux-x86_64-cpython-39/mpi4py/futures\n",
      "  \u001b[31m   \u001b[0m copying src/mpi4py/futures/aplus.pyi -> build/lib.linux-x86_64-cpython-39/mpi4py/futures\n",
      "  \u001b[31m   \u001b[0m copying src/mpi4py/futures/pool.pyi -> build/lib.linux-x86_64-cpython-39/mpi4py/futures\n",
      "  \u001b[31m   \u001b[0m copying src/mpi4py/futures/server.pyi -> build/lib.linux-x86_64-cpython-39/mpi4py/futures\n",
      "  \u001b[31m   \u001b[0m copying src/mpi4py/util/__init__.pyi -> build/lib.linux-x86_64-cpython-39/mpi4py/util\n",
      "  \u001b[31m   \u001b[0m copying src/mpi4py/util/dtlib.pyi -> build/lib.linux-x86_64-cpython-39/mpi4py/util\n",
      "  \u001b[31m   \u001b[0m copying src/mpi4py/util/pkl5.pyi -> build/lib.linux-x86_64-cpython-39/mpi4py/util\n",
      "  \u001b[31m   \u001b[0m running build_clib\n",
      "  \u001b[31m   \u001b[0m MPI configuration: [mpi] from 'mpi.cfg'\n",
      "  \u001b[31m   \u001b[0m checking for library 'lmpe' ...\n",
      "  \u001b[31m   \u001b[0m gcc -pthread -B /opt/conda/compiler_compat -Wno-unused-result -Wsign-compare -DNDEBUG -fwrapv -O2 -Wall -fPIC -O2 -isystem /opt/conda/include -fPIC -O2 -isystem /opt/conda/include -fPIC -c _configtest.c -o _configtest.o\n",
      "  \u001b[31m   \u001b[0m gcc -pthread -B /opt/conda/compiler_compat _configtest.o -llmpe -o _configtest\n",
      "  \u001b[31m   \u001b[0m /opt/conda/compiler_compat/ld: cannot find -llmpe\n",
      "  \u001b[31m   \u001b[0m collect2: error: ld returned 1 exit status\n",
      "  \u001b[31m   \u001b[0m failure.\n",
      "  \u001b[31m   \u001b[0m removing: _configtest.c _configtest.o\n",
      "  \u001b[31m   \u001b[0m building 'mpe' dylib library\n",
      "  \u001b[31m   \u001b[0m creating build/temp.linux-x86_64-cpython-39\n",
      "  \u001b[31m   \u001b[0m creating build/temp.linux-x86_64-cpython-39/src\n",
      "  \u001b[31m   \u001b[0m creating build/temp.linux-x86_64-cpython-39/src/lib-pmpi\n",
      "  \u001b[31m   \u001b[0m gcc -pthread -B /opt/conda/compiler_compat -Wno-unused-result -Wsign-compare -DNDEBUG -fwrapv -O2 -Wall -fPIC -O2 -isystem /opt/conda/include -fPIC -O2 -isystem /opt/conda/include -fPIC -c src/lib-pmpi/mpe.c -o build/temp.linux-x86_64-cpython-39/src/lib-pmpi/mpe.o\n",
      "  \u001b[31m   \u001b[0m creating build/lib.linux-x86_64-cpython-39/mpi4py/lib-pmpi\n",
      "  \u001b[31m   \u001b[0m gcc -pthread -B /opt/conda/compiler_compat -shared -Wl,--allow-shlib-undefined -Wl,-rpath,/opt/conda/lib -Wl,-rpath-link,/opt/conda/lib -L/opt/conda/lib -Wl,--allow-shlib-undefined -Wl,-rpath,/opt/conda/lib -Wl,-rpath-link,/opt/conda/lib -L/opt/conda/lib -Wl,--no-as-needed build/temp.linux-x86_64-cpython-39/src/lib-pmpi/mpe.o -o build/lib.linux-x86_64-cpython-39/mpi4py/lib-pmpi/libmpe.so\n",
      "  \u001b[31m   \u001b[0m checking for library 'vt-mpi' ...\n",
      "  \u001b[31m   \u001b[0m gcc -pthread -B /opt/conda/compiler_compat -Wno-unused-result -Wsign-compare -DNDEBUG -fwrapv -O2 -Wall -fPIC -O2 -isystem /opt/conda/include -fPIC -O2 -isystem /opt/conda/include -fPIC -c _configtest.c -o _configtest.o\n",
      "  \u001b[31m   \u001b[0m gcc -pthread -B /opt/conda/compiler_compat _configtest.o -lvt-mpi -o _configtest\n",
      "  \u001b[31m   \u001b[0m /opt/conda/compiler_compat/ld: cannot find -lvt-mpi\n",
      "  \u001b[31m   \u001b[0m collect2: error: ld returned 1 exit status\n",
      "  \u001b[31m   \u001b[0m failure.\n",
      "  \u001b[31m   \u001b[0m removing: _configtest.c _configtest.o\n",
      "  \u001b[31m   \u001b[0m checking for library 'vt.mpi' ...\n",
      "  \u001b[31m   \u001b[0m gcc -pthread -B /opt/conda/compiler_compat -Wno-unused-result -Wsign-compare -DNDEBUG -fwrapv -O2 -Wall -fPIC -O2 -isystem /opt/conda/include -fPIC -O2 -isystem /opt/conda/include -fPIC -c _configtest.c -o _configtest.o\n",
      "  \u001b[31m   \u001b[0m gcc -pthread -B /opt/conda/compiler_compat _configtest.o -lvt.mpi -o _configtest\n",
      "  \u001b[31m   \u001b[0m /opt/conda/compiler_compat/ld: cannot find -lvt.mpi\n",
      "  \u001b[31m   \u001b[0m collect2: error: ld returned 1 exit status\n",
      "  \u001b[31m   \u001b[0m failure.\n",
      "  \u001b[31m   \u001b[0m removing: _configtest.c _configtest.o\n",
      "  \u001b[31m   \u001b[0m building 'vt' dylib library\n",
      "  \u001b[31m   \u001b[0m gcc -pthread -B /opt/conda/compiler_compat -Wno-unused-result -Wsign-compare -DNDEBUG -fwrapv -O2 -Wall -fPIC -O2 -isystem /opt/conda/include -fPIC -O2 -isystem /opt/conda/include -fPIC -c src/lib-pmpi/vt.c -o build/temp.linux-x86_64-cpython-39/src/lib-pmpi/vt.o\n",
      "  \u001b[31m   \u001b[0m gcc -pthread -B /opt/conda/compiler_compat -shared -Wl,--allow-shlib-undefined -Wl,-rpath,/opt/conda/lib -Wl,-rpath-link,/opt/conda/lib -L/opt/conda/lib -Wl,--allow-shlib-undefined -Wl,-rpath,/opt/conda/lib -Wl,-rpath-link,/opt/conda/lib -L/opt/conda/lib -Wl,--no-as-needed build/temp.linux-x86_64-cpython-39/src/lib-pmpi/vt.o -o build/lib.linux-x86_64-cpython-39/mpi4py/lib-pmpi/libvt.so\n",
      "  \u001b[31m   \u001b[0m checking for library 'vt-mpi' ...\n",
      "  \u001b[31m   \u001b[0m gcc -pthread -B /opt/conda/compiler_compat -Wno-unused-result -Wsign-compare -DNDEBUG -fwrapv -O2 -Wall -fPIC -O2 -isystem /opt/conda/include -fPIC -O2 -isystem /opt/conda/include -fPIC -c _configtest.c -o _configtest.o\n",
      "  \u001b[31m   \u001b[0m gcc -pthread -B /opt/conda/compiler_compat _configtest.o -lvt-mpi -o _configtest\n",
      "  \u001b[31m   \u001b[0m /opt/conda/compiler_compat/ld: cannot find -lvt-mpi\n",
      "  \u001b[31m   \u001b[0m collect2: error: ld returned 1 exit status\n",
      "  \u001b[31m   \u001b[0m failure.\n",
      "  \u001b[31m   \u001b[0m removing: _configtest.c _configtest.o\n",
      "  \u001b[31m   \u001b[0m checking for library 'vt.mpi' ...\n",
      "  \u001b[31m   \u001b[0m gcc -pthread -B /opt/conda/compiler_compat -Wno-unused-result -Wsign-compare -DNDEBUG -fwrapv -O2 -Wall -fPIC -O2 -isystem /opt/conda/include -fPIC -O2 -isystem /opt/conda/include -fPIC -c _configtest.c -o _configtest.o\n",
      "  \u001b[31m   \u001b[0m gcc -pthread -B /opt/conda/compiler_compat _configtest.o -lvt.mpi -o _configtest\n",
      "  \u001b[31m   \u001b[0m /opt/conda/compiler_compat/ld: cannot find -lvt.mpi\n",
      "  \u001b[31m   \u001b[0m collect2: error: ld returned 1 exit status\n",
      "  \u001b[31m   \u001b[0m failure.\n",
      "  \u001b[31m   \u001b[0m removing: _configtest.c _configtest.o\n",
      "  \u001b[31m   \u001b[0m building 'vt-mpi' dylib library\n",
      "  \u001b[31m   \u001b[0m gcc -pthread -B /opt/conda/compiler_compat -Wno-unused-result -Wsign-compare -DNDEBUG -fwrapv -O2 -Wall -fPIC -O2 -isystem /opt/conda/include -fPIC -O2 -isystem /opt/conda/include -fPIC -c src/lib-pmpi/vt-mpi.c -o build/temp.linux-x86_64-cpython-39/src/lib-pmpi/vt-mpi.o\n",
      "  \u001b[31m   \u001b[0m gcc -pthread -B /opt/conda/compiler_compat -shared -Wl,--allow-shlib-undefined -Wl,-rpath,/opt/conda/lib -Wl,-rpath-link,/opt/conda/lib -L/opt/conda/lib -Wl,--allow-shlib-undefined -Wl,-rpath,/opt/conda/lib -Wl,-rpath-link,/opt/conda/lib -L/opt/conda/lib -Wl,--no-as-needed build/temp.linux-x86_64-cpython-39/src/lib-pmpi/vt-mpi.o -o build/lib.linux-x86_64-cpython-39/mpi4py/lib-pmpi/libvt-mpi.so\n",
      "  \u001b[31m   \u001b[0m checking for library 'vt-hyb' ...\n",
      "  \u001b[31m   \u001b[0m gcc -pthread -B /opt/conda/compiler_compat -Wno-unused-result -Wsign-compare -DNDEBUG -fwrapv -O2 -Wall -fPIC -O2 -isystem /opt/conda/include -fPIC -O2 -isystem /opt/conda/include -fPIC -c _configtest.c -o _configtest.o\n",
      "  \u001b[31m   \u001b[0m gcc -pthread -B /opt/conda/compiler_compat _configtest.o -lvt-hyb -o _configtest\n",
      "  \u001b[31m   \u001b[0m /opt/conda/compiler_compat/ld: cannot find -lvt-hyb\n",
      "  \u001b[31m   \u001b[0m collect2: error: ld returned 1 exit status\n",
      "  \u001b[31m   \u001b[0m failure.\n",
      "  \u001b[31m   \u001b[0m removing: _configtest.c _configtest.o\n",
      "  \u001b[31m   \u001b[0m checking for library 'vt.ompi' ...\n",
      "  \u001b[31m   \u001b[0m gcc -pthread -B /opt/conda/compiler_compat -Wno-unused-result -Wsign-compare -DNDEBUG -fwrapv -O2 -Wall -fPIC -O2 -isystem /opt/conda/include -fPIC -O2 -isystem /opt/conda/include -fPIC -c _configtest.c -o _configtest.o\n",
      "  \u001b[31m   \u001b[0m gcc -pthread -B /opt/conda/compiler_compat _configtest.o -lvt.ompi -o _configtest\n",
      "  \u001b[31m   \u001b[0m /opt/conda/compiler_compat/ld: cannot find -lvt.ompi\n",
      "  \u001b[31m   \u001b[0m collect2: error: ld returned 1 exit status\n",
      "  \u001b[31m   \u001b[0m failure.\n",
      "  \u001b[31m   \u001b[0m removing: _configtest.c _configtest.o\n",
      "  \u001b[31m   \u001b[0m building 'vt-hyb' dylib library\n",
      "  \u001b[31m   \u001b[0m gcc -pthread -B /opt/conda/compiler_compat -Wno-unused-result -Wsign-compare -DNDEBUG -fwrapv -O2 -Wall -fPIC -O2 -isystem /opt/conda/include -fPIC -O2 -isystem /opt/conda/include -fPIC -c src/lib-pmpi/vt-hyb.c -o build/temp.linux-x86_64-cpython-39/src/lib-pmpi/vt-hyb.o\n",
      "  \u001b[31m   \u001b[0m gcc -pthread -B /opt/conda/compiler_compat -shared -Wl,--allow-shlib-undefined -Wl,-rpath,/opt/conda/lib -Wl,-rpath-link,/opt/conda/lib -L/opt/conda/lib -Wl,--allow-shlib-undefined -Wl,-rpath,/opt/conda/lib -Wl,-rpath-link,/opt/conda/lib -L/opt/conda/lib -Wl,--no-as-needed build/temp.linux-x86_64-cpython-39/src/lib-pmpi/vt-hyb.o -o build/lib.linux-x86_64-cpython-39/mpi4py/lib-pmpi/libvt-hyb.so\n",
      "  \u001b[31m   \u001b[0m running build_ext\n",
      "  \u001b[31m   \u001b[0m MPI configuration: [mpi] from 'mpi.cfg'\n",
      "  \u001b[31m   \u001b[0m checking for dlopen() availability ...\n",
      "  \u001b[31m   \u001b[0m checking for header 'dlfcn.h' ...\n",
      "  \u001b[31m   \u001b[0m gcc -pthread -B /opt/conda/compiler_compat -Wno-unused-result -Wsign-compare -DNDEBUG -fwrapv -O2 -Wall -fPIC -O2 -isystem /opt/conda/include -fPIC -O2 -isystem /opt/conda/include -fPIC -I/opt/conda/include/python3.9 -c _configtest.c -o _configtest.o\n",
      "  \u001b[31m   \u001b[0m success!\n",
      "  \u001b[31m   \u001b[0m removing: _configtest.c _configtest.o\n",
      "  \u001b[31m   \u001b[0m success!\n",
      "  \u001b[31m   \u001b[0m checking for library 'dl' ...\n",
      "  \u001b[31m   \u001b[0m gcc -pthread -B /opt/conda/compiler_compat -Wno-unused-result -Wsign-compare -DNDEBUG -fwrapv -O2 -Wall -fPIC -O2 -isystem /opt/conda/include -fPIC -O2 -isystem /opt/conda/include -fPIC -I/opt/conda/include/python3.9 -c _configtest.c -o _configtest.o\n",
      "  \u001b[31m   \u001b[0m gcc -pthread -B /opt/conda/compiler_compat _configtest.o -Lbuild/temp.linux-x86_64-cpython-39 -ldl -o _configtest\n",
      "  \u001b[31m   \u001b[0m success!\n",
      "  \u001b[31m   \u001b[0m removing: _configtest.c _configtest.o _configtest\n",
      "  \u001b[31m   \u001b[0m checking for function 'dlopen' ...\n",
      "  \u001b[31m   \u001b[0m gcc -pthread -B /opt/conda/compiler_compat -Wno-unused-result -Wsign-compare -DNDEBUG -fwrapv -O2 -Wall -fPIC -O2 -isystem /opt/conda/include -fPIC -O2 -isystem /opt/conda/include -fPIC -I/opt/conda/include/python3.9 -c _configtest.c -o _configtest.o\n",
      "  \u001b[31m   \u001b[0m gcc -pthread -B /opt/conda/compiler_compat _configtest.o -Lbuild/temp.linux-x86_64-cpython-39 -ldl -o _configtest\n",
      "  \u001b[31m   \u001b[0m success!\n",
      "  \u001b[31m   \u001b[0m removing: _configtest.c _configtest.o _configtest\n",
      "  \u001b[31m   \u001b[0m building 'mpi4py.dl' extension\n",
      "  \u001b[31m   \u001b[0m gcc -pthread -B /opt/conda/compiler_compat -Wno-unused-result -Wsign-compare -DNDEBUG -fwrapv -O2 -Wall -fPIC -O2 -isystem /opt/conda/include -fPIC -O2 -isystem /opt/conda/include -fPIC -DHAVE_DLFCN_H=1 -DHAVE_DLOPEN=1 -I/opt/conda/include/python3.9 -c src/dynload.c -o build/temp.linux-x86_64-cpython-39/src/dynload.o\n",
      "  \u001b[31m   \u001b[0m gcc -pthread -B /opt/conda/compiler_compat -shared -Wl,--allow-shlib-undefined -Wl,-rpath,/opt/conda/lib -Wl,-rpath-link,/opt/conda/lib -L/opt/conda/lib -Wl,--allow-shlib-undefined -Wl,-rpath,/opt/conda/lib -Wl,-rpath-link,/opt/conda/lib -L/opt/conda/lib build/temp.linux-x86_64-cpython-39/src/dynload.o -Lbuild/temp.linux-x86_64-cpython-39 -ldl -o build/lib.linux-x86_64-cpython-39/mpi4py/dl.cpython-39-x86_64-linux-gnu.so\n",
      "  \u001b[31m   \u001b[0m checking for MPI compile and link ...\n",
      "  \u001b[31m   \u001b[0m gcc -pthread -B /opt/conda/compiler_compat -Wno-unused-result -Wsign-compare -DNDEBUG -fwrapv -O2 -Wall -fPIC -O2 -isystem /opt/conda/include -fPIC -O2 -isystem /opt/conda/include -fPIC -I/opt/conda/include/python3.9 -c _configtest.c -o _configtest.o\n",
      "  \u001b[31m   \u001b[0m _configtest.c:2:10: fatal error: mpi.h: No such file or directory\n",
      "  \u001b[31m   \u001b[0m     2 | #include <mpi.h>\n",
      "  \u001b[31m   \u001b[0m       |          ^~~~~~~\n",
      "  \u001b[31m   \u001b[0m compilation terminated.\n",
      "  \u001b[31m   \u001b[0m failure.\n",
      "  \u001b[31m   \u001b[0m removing: _configtest.c _configtest.o\n",
      "  \u001b[31m   \u001b[0m error: Cannot compile MPI programs. Check your configuration!!!\n",
      "  \u001b[31m   \u001b[0m \u001b[31m[end of output]\u001b[0m\n",
      "  \n",
      "  \u001b[1;35mnote\u001b[0m: This error originates from a subprocess, and is likely not a problem with pip.\n",
      "\u001b[31m  ERROR: Failed building wheel for mpi4py\u001b[0m\u001b[31m\n",
      "\u001b[0m\u001b[?25hFailed to build mpi4py\n",
      "\u001b[31mERROR: Could not build wheels for mpi4py, which is required to install pyproject.toml-based projects\u001b[0m\u001b[31m\n",
      "\u001b[0m"
     ]
    }
   ],
   "source": [
    "!pip install mpi4py"
   ]
  },
  {
   "cell_type": "code",
   "execution_count": 10,
   "id": "7521e133-a5cb-43f2-a433-5502640f9342",
   "metadata": {
    "execution": {
     "iopub.execute_input": "2022-07-08T17:55:24.129873Z",
     "iopub.status.busy": "2022-07-08T17:55:24.129672Z",
     "iopub.status.idle": "2022-07-09T12:42:48.367534Z",
     "shell.execute_reply": "2022-07-09T12:42:48.367159Z",
     "shell.execute_reply.started": "2022-07-08T17:55:24.129855Z"
    },
    "tags": []
   },
   "outputs": [
    {
     "name": "stdout",
     "output_type": "stream",
     "text": [
      "Process information recorded in output_ELcalc_08072022_1755.txt\n",
      "^C\n",
      "Traceback (most recent call last):\n",
      "  File \"/home/jeandet/Pauline/./code2/src/calc_exact_law_seq.py\", line 1385, in <module>\n",
      "    data_output.calc_at_scale(indices, exactlaw, div=True)\n",
      "  File \"/home/jeandet/Pauline/./code2/src/calc_exact_law_seq.py\", line 886, in calc_at_scale\n",
      "    ] = self.funcdic[t](exactlaw, *self.argdic[t])[indices[3]]\n",
      "  File \"/home/jeandet/Pauline/./code2/src/calc_exact_law_seq.py\", line 983, in flux\n",
      "    return np.array(list(self.flux_gen(data_1, data_2, data_3, data_4)))\n",
      "  File \"/home/jeandet/Pauline/./code2/src/calc_exact_law_seq.py\", line 944, in flux_gen\n",
      "    yield np.sum(tab)  # np.sum(np.sort(tab.flatten()))\n",
      "  File \"<__array_function__ internals>\", line 5, in sum\n",
      "  File \"/opt/conda/lib/python3.9/site-packages/numpy/core/fromnumeric.py\", line 2259, in sum\n",
      "    return _wrapreduction(a, np.add, 'sum', axis, dtype, out, keepdims=keepdims,\n",
      "  File \"/opt/conda/lib/python3.9/site-packages/numpy/core/fromnumeric.py\", line 86, in _wrapreduction\n",
      "    return ufunc.reduce(obj, axis, dtype, out, **passkwargs)\n",
      "KeyboardInterrupt\n"
     ]
    }
   ],
   "source": [
    "!NUMEXPR_MAX_THREADS=100 python ./code2/src/calc_exact_law_seq.py"
   ]
  },
  {
   "cell_type": "code",
   "execution_count": 6,
   "id": "dfeb745c-3992-4378-b666-37bd7a4121a6",
   "metadata": {
    "execution": {
     "iopub.execute_input": "2022-07-08T17:45:28.345199Z",
     "iopub.status.busy": "2022-07-08T17:45:28.344970Z",
     "iopub.status.idle": "2022-07-08T17:45:28.981250Z",
     "shell.execute_reply": "2022-07-08T17:45:28.980712Z",
     "shell.execute_reply.started": "2022-07-08T17:45:28.345179Z"
    },
    "tags": []
   },
   "outputs": [],
   "source": [
    "!rm -rf save_08072022_1743"
   ]
  },
  {
   "cell_type": "code",
   "execution_count": 1,
   "id": "df9acb17-7a8d-4f92-ab30-696038403ef6",
   "metadata": {
    "execution": {
     "iopub.execute_input": "2022-07-11T12:11:34.310543Z",
     "iopub.status.busy": "2022-07-11T12:11:34.310381Z",
     "iopub.status.idle": "2022-07-11T12:11:34.493387Z",
     "shell.execute_reply": "2022-07-11T12:11:34.492824Z",
     "shell.execute_reply.started": "2022-07-11T12:11:34.310527Z"
    },
    "tags": []
   },
   "outputs": [],
   "source": [
    "import numpy as np\n",
    "import numexpr as ne"
   ]
  },
  {
   "cell_type": "code",
   "execution_count": 25,
   "id": "9085c055-b7b2-4def-9f54-dd75d2af146d",
   "metadata": {
    "execution": {
     "iopub.execute_input": "2022-07-11T12:24:59.892962Z",
     "iopub.status.busy": "2022-07-11T12:24:59.892568Z",
     "iopub.status.idle": "2022-07-11T12:24:59.897455Z",
     "shell.execute_reply": "2022-07-11T12:24:59.897068Z",
     "shell.execute_reply.started": "2022-07-11T12:24:59.892943Z"
    },
    "tags": []
   },
   "outputs": [
    {
     "data": {
      "text/plain": [
       "  C_CONTIGUOUS : True\n",
       "  F_CONTIGUOUS : False\n",
       "  OWNDATA : True\n",
       "  WRITEABLE : True\n",
       "  ALIGNED : True\n",
       "  WRITEBACKIFCOPY : False\n",
       "  UPDATEIFCOPY : False"
      ]
     },
     "execution_count": 25,
     "metadata": {},
     "output_type": "execute_result"
    }
   ],
   "source": [
    "data[[1,2,3]].flags"
   ]
  },
  {
   "cell_type": "code",
   "execution_count": 17,
   "id": "e6cb20a7-aea8-48e7-935b-abddbda9648b",
   "metadata": {
    "execution": {
     "iopub.execute_input": "2022-07-11T12:22:06.890944Z",
     "iopub.status.busy": "2022-07-11T12:22:06.890774Z",
     "iopub.status.idle": "2022-07-11T12:22:06.894164Z",
     "shell.execute_reply": "2022-07-11T12:22:06.893866Z",
     "shell.execute_reply.started": "2022-07-11T12:22:06.890928Z"
    },
    "tags": []
   },
   "outputs": [
    {
     "data": {
      "text/plain": [
       "(502, 512, 512)"
      ]
     },
     "execution_count": 17,
     "metadata": {},
     "output_type": "execute_result"
    }
   ],
   "source": [
    "data[10:].shape"
   ]
  },
  {
   "cell_type": "code",
   "execution_count": 27,
   "id": "c22e1b5f-3437-4b99-8e94-3bcc3450cd5c",
   "metadata": {
    "execution": {
     "iopub.execute_input": "2022-07-11T12:27:07.370874Z",
     "iopub.status.busy": "2022-07-11T12:27:07.370599Z",
     "iopub.status.idle": "2022-07-11T12:27:07.374238Z",
     "shell.execute_reply": "2022-07-11T12:27:07.373818Z",
     "shell.execute_reply.started": "2022-07-11T12:27:07.370855Z"
    },
    "tags": []
   },
   "outputs": [
    {
     "data": {
      "text/plain": [
       "\u001b[0;31mDocstring:\u001b[0m\n",
       "a.flatten(order='C')\n",
       "\n",
       "Return a copy of the array collapsed into one dimension.\n",
       "\n",
       "Parameters\n",
       "----------\n",
       "order : {'C', 'F', 'A', 'K'}, optional\n",
       "    'C' means to flatten in row-major (C-style) order.\n",
       "    'F' means to flatten in column-major (Fortran-\n",
       "    style) order. 'A' means to flatten in column-major\n",
       "    order if `a` is Fortran *contiguous* in memory,\n",
       "    row-major order otherwise. 'K' means to flatten\n",
       "    `a` in the order the elements occur in memory.\n",
       "    The default is 'C'.\n",
       "\n",
       "Returns\n",
       "-------\n",
       "y : ndarray\n",
       "    A copy of the input array, flattened to one dimension.\n",
       "\n",
       "See Also\n",
       "--------\n",
       "ravel : Return a flattened array.\n",
       "flat : A 1-D flat iterator over the array.\n",
       "\n",
       "Examples\n",
       "--------\n",
       ">>> a = np.array([[1,2], [3,4]])\n",
       ">>> a.flatten()\n",
       "array([1, 2, 3, 4])\n",
       ">>> a.flatten('F')\n",
       "array([1, 3, 2, 4])\n",
       "\u001b[0;31mType:\u001b[0m      builtin_function_or_method\n"
      ]
     },
     "metadata": {},
     "output_type": "display_data"
    }
   ],
   "source": [
    "data.flatten?"
   ]
  },
  {
   "cell_type": "code",
   "execution_count": 29,
   "id": "3d2ed7ef-93de-48c3-bfcc-a16d946b53a2",
   "metadata": {
    "execution": {
     "iopub.execute_input": "2022-07-11T12:29:08.893340Z",
     "iopub.status.busy": "2022-07-11T12:29:08.893168Z",
     "iopub.status.idle": "2022-07-11T12:29:10.652320Z",
     "shell.execute_reply": "2022-07-11T12:29:10.651966Z",
     "shell.execute_reply.started": "2022-07-11T12:29:08.893323Z"
    },
    "tags": []
   },
   "outputs": [
    {
     "name": "stdout",
     "output_type": "stream",
     "text": [
      "216 ns ± 2.46 ns per loop (mean ± std. dev. of 7 runs, 1,000,000 loops each)\n"
     ]
    }
   ],
   "source": [
    "%timeit a=data.reshape((-1,))"
   ]
  },
  {
   "cell_type": "code",
   "execution_count": 127,
   "id": "c8767680-c355-493f-ae2a-6d44d411ed28",
   "metadata": {
    "execution": {
     "iopub.execute_input": "2022-07-11T13:39:55.398685Z",
     "iopub.status.busy": "2022-07-11T13:39:55.398502Z",
     "iopub.status.idle": "2022-07-11T13:39:56.397638Z",
     "shell.execute_reply": "2022-07-11T13:39:56.397066Z",
     "shell.execute_reply.started": "2022-07-11T13:39:55.398669Z"
    },
    "tags": []
   },
   "outputs": [],
   "source": [
    "data = np.random.random((512,512,512))\n",
    "a=data.reshape((-1,))\n",
    "b=np.roll(a,10,0)"
   ]
  },
  {
   "cell_type": "code",
   "execution_count": 124,
   "id": "24a5901d-7bf3-4619-8535-214be09d8f09",
   "metadata": {
    "execution": {
     "iopub.execute_input": "2022-07-11T13:36:11.446819Z",
     "iopub.status.busy": "2022-07-11T13:36:11.446723Z",
     "iopub.status.idle": "2022-07-11T13:36:13.269651Z",
     "shell.execute_reply": "2022-07-11T13:36:13.269258Z",
     "shell.execute_reply.started": "2022-07-11T13:36:11.446807Z"
    },
    "tags": []
   },
   "outputs": [
    {
     "name": "stdout",
     "output_type": "stream",
     "text": [
      "2.24 ms ± 21.1 µs per loop (mean ± std. dev. of 7 runs, 100 loops each)\n"
     ]
    }
   ],
   "source": [
    "%timeit b=np.roll(a,10,0)"
   ]
  },
  {
   "cell_type": "code",
   "execution_count": 113,
   "id": "2e9ced45-bc15-4b0b-930b-9e7644970df1",
   "metadata": {
    "execution": {
     "iopub.execute_input": "2022-07-11T13:35:28.351410Z",
     "iopub.status.busy": "2022-07-11T13:35:28.351082Z",
     "iopub.status.idle": "2022-07-11T13:35:30.741559Z",
     "shell.execute_reply": "2022-07-11T13:35:30.741129Z",
     "shell.execute_reply.started": "2022-07-11T13:35:28.351392Z"
    },
    "tags": []
   },
   "outputs": [
    {
     "name": "stdout",
     "output_type": "stream",
     "text": [
      "2.94 ms ± 34.5 µs per loop (mean ± std. dev. of 7 runs, 100 loops each)\n"
     ]
    }
   ],
   "source": [
    "%timeit np.sum(a[10:] - a[:-10])"
   ]
  },
  {
   "cell_type": "code",
   "execution_count": 114,
   "id": "ee301ec8-b62c-4b4e-b834-12ca06bcd544",
   "metadata": {
    "execution": {
     "iopub.execute_input": "2022-07-11T13:35:30.751456Z",
     "iopub.status.busy": "2022-07-11T13:35:30.751337Z",
     "iopub.status.idle": "2022-07-11T13:35:33.705456Z",
     "shell.execute_reply": "2022-07-11T13:35:33.705069Z",
     "shell.execute_reply.started": "2022-07-11T13:35:30.751444Z"
    },
    "tags": []
   },
   "outputs": [
    {
     "name": "stdout",
     "output_type": "stream",
     "text": [
      "3.63 ms ± 77.6 µs per loop (mean ± std. dev. of 7 runs, 100 loops each)\n"
     ]
    }
   ],
   "source": [
    "%timeit np.sum(a - b)"
   ]
  },
  {
   "cell_type": "code",
   "execution_count": 115,
   "id": "d45f326e-0c38-4f5a-9dee-0f596fadb1e0",
   "metadata": {
    "execution": {
     "iopub.execute_input": "2022-07-11T13:35:33.706638Z",
     "iopub.status.busy": "2022-07-11T13:35:33.706496Z",
     "iopub.status.idle": "2022-07-11T13:35:36.040307Z",
     "shell.execute_reply": "2022-07-11T13:35:36.039904Z",
     "shell.execute_reply.started": "2022-07-11T13:35:33.706624Z"
    },
    "tags": []
   },
   "outputs": [
    {
     "name": "stdout",
     "output_type": "stream",
     "text": [
      "2.87 ms ± 47.2 µs per loop (mean ± std. dev. of 7 runs, 100 loops each)\n"
     ]
    }
   ],
   "source": [
    "%timeit np.sum(a[10:] - a[:-10])"
   ]
  },
  {
   "cell_type": "code",
   "execution_count": 116,
   "id": "c69a8a59-febb-4146-8059-8758741b907f",
   "metadata": {
    "execution": {
     "iopub.execute_input": "2022-07-11T13:35:36.041024Z",
     "iopub.status.busy": "2022-07-11T13:35:36.040919Z",
     "iopub.status.idle": "2022-07-11T13:35:38.346232Z",
     "shell.execute_reply": "2022-07-11T13:35:38.345832Z",
     "shell.execute_reply.started": "2022-07-11T13:35:36.041011Z"
    },
    "tags": []
   },
   "outputs": [
    {
     "name": "stdout",
     "output_type": "stream",
     "text": [
      "2.84 ms ± 21.3 µs per loop (mean ± std. dev. of 7 runs, 100 loops each)\n"
     ]
    }
   ],
   "source": [
    "%timeit np.add.reduce(a[10:] - a[:-10])"
   ]
  },
  {
   "cell_type": "code",
   "execution_count": 8,
   "id": "0fbbb8df-1fa1-4d48-a620-4b544c31931f",
   "metadata": {
    "execution": {
     "iopub.execute_input": "2022-07-12T08:16:24.082383Z",
     "iopub.status.busy": "2022-07-12T08:16:24.082128Z",
     "iopub.status.idle": "2022-07-12T08:16:24.122973Z",
     "shell.execute_reply": "2022-07-12T08:16:24.122559Z",
     "shell.execute_reply.started": "2022-07-12T08:16:24.082367Z"
    },
    "tags": []
   },
   "outputs": [
    {
     "ename": "TypingError",
     "evalue": "Failed in nopython mode pipeline (step: nopython frontend)\n\u001b[1m\u001b[1mNo implementation of function Function(<built-in function getitem>) found for signature:\n \n >>> getitem(float64, float64)\n \nThere are 22 candidate implementations:\n\u001b[1m      - Of which 22 did not match due to:\n      Overload of function 'getitem': File: <numerous>: Line N/A.\n        With argument(s): '(float64, float64)':\u001b[0m\n\u001b[1m       No match.\u001b[0m\n\u001b[0m\n\u001b[0m\u001b[1mDuring: typing of intrinsic-call at /tmp/ipykernel_26941/2190005536.py (10)\u001b[0m\n\u001b[1m\nFile \"../ipykernel_26941/2190005536.py\", line 10:\u001b[0m\n\u001b[1m<source missing, REPL/exec in use?>\u001b[0m\n",
     "output_type": "error",
     "traceback": [
      "\u001b[0;31m---------------------------------------------------------------------------\u001b[0m",
      "\u001b[0;31mTypingError\u001b[0m                               Traceback (most recent call last)",
      "\u001b[0;32m/tmp/ipykernel_26941/2190005536.py\u001b[0m in \u001b[0;36m<module>\u001b[0;34m\u001b[0m\n\u001b[1;32m      7\u001b[0m \u001b[0;34m\u001b[0m\u001b[0m\n\u001b[1;32m      8\u001b[0m \u001b[0;34m@\u001b[0m\u001b[0mnjit\u001b[0m\u001b[0;34m(\u001b[0m\u001b[0;34m'double(double,double,double)'\u001b[0m\u001b[0;34m)\u001b[0m\u001b[0;34m\u001b[0m\u001b[0;34m\u001b[0m\u001b[0m\n\u001b[0;32m----> 9\u001b[0;31m \u001b[0;32mdef\u001b[0m \u001b[0minner_test_f2\u001b[0m\u001b[0;34m(\u001b[0m\u001b[0mi\u001b[0m\u001b[0;34m,\u001b[0m\u001b[0mj\u001b[0m\u001b[0;34m,\u001b[0m\u001b[0ma\u001b[0m\u001b[0;34m)\u001b[0m\u001b[0;34m:\u001b[0m\u001b[0;34m\u001b[0m\u001b[0;34m\u001b[0m\u001b[0m\n\u001b[0m\u001b[1;32m     10\u001b[0m     \u001b[0;32mreturn\u001b[0m \u001b[0msqrt\u001b[0m\u001b[0;34m(\u001b[0m\u001b[0ma\u001b[0m\u001b[0;34m[\u001b[0m\u001b[0mi\u001b[0m\u001b[0;34m]\u001b[0m \u001b[0;34m-\u001b[0m \u001b[0ma\u001b[0m\u001b[0;34m[\u001b[0m\u001b[0mj\u001b[0m\u001b[0;34m]\u001b[0m \u001b[0;34m+\u001b[0m \u001b[0;34m(\u001b[0m\u001b[0ma\u001b[0m\u001b[0;34m[\u001b[0m\u001b[0mi\u001b[0m\u001b[0;34m]\u001b[0m \u001b[0;34m-\u001b[0m \u001b[0ma\u001b[0m\u001b[0;34m[\u001b[0m\u001b[0mj\u001b[0m\u001b[0;34m]\u001b[0m\u001b[0;34m)\u001b[0m \u001b[0;34m*\u001b[0m \u001b[0;34m(\u001b[0m\u001b[0ma\u001b[0m\u001b[0;34m[\u001b[0m\u001b[0mi\u001b[0m\u001b[0;34m]\u001b[0m \u001b[0;34m+\u001b[0m \u001b[0ma\u001b[0m\u001b[0;34m[\u001b[0m\u001b[0mj\u001b[0m\u001b[0;34m]\u001b[0m\u001b[0;34m)\u001b[0m\u001b[0;34m)\u001b[0m\u001b[0;34m\u001b[0m\u001b[0;34m\u001b[0m\u001b[0m\n\u001b[1;32m     11\u001b[0m \u001b[0;34m\u001b[0m\u001b[0m\n",
      "\u001b[0;32m~/venv/lib/python3.8/site-packages/numba/core/decorators.py\u001b[0m in \u001b[0;36mwrapper\u001b[0;34m(func)\u001b[0m\n\u001b[1;32m    217\u001b[0m             \u001b[0;32mwith\u001b[0m \u001b[0mtypeinfer\u001b[0m\u001b[0;34m.\u001b[0m\u001b[0mregister_dispatcher\u001b[0m\u001b[0;34m(\u001b[0m\u001b[0mdisp\u001b[0m\u001b[0;34m)\u001b[0m\u001b[0;34m:\u001b[0m\u001b[0;34m\u001b[0m\u001b[0;34m\u001b[0m\u001b[0m\n\u001b[1;32m    218\u001b[0m                 \u001b[0;32mfor\u001b[0m \u001b[0msig\u001b[0m \u001b[0;32min\u001b[0m \u001b[0msigs\u001b[0m\u001b[0;34m:\u001b[0m\u001b[0;34m\u001b[0m\u001b[0;34m\u001b[0m\u001b[0m\n\u001b[0;32m--> 219\u001b[0;31m                     \u001b[0mdisp\u001b[0m\u001b[0;34m.\u001b[0m\u001b[0mcompile\u001b[0m\u001b[0;34m(\u001b[0m\u001b[0msig\u001b[0m\u001b[0;34m)\u001b[0m\u001b[0;34m\u001b[0m\u001b[0;34m\u001b[0m\u001b[0m\n\u001b[0m\u001b[1;32m    220\u001b[0m                 \u001b[0mdisp\u001b[0m\u001b[0;34m.\u001b[0m\u001b[0mdisable_compile\u001b[0m\u001b[0;34m(\u001b[0m\u001b[0;34m)\u001b[0m\u001b[0;34m\u001b[0m\u001b[0;34m\u001b[0m\u001b[0m\n\u001b[1;32m    221\u001b[0m         \u001b[0;32mreturn\u001b[0m \u001b[0mdisp\u001b[0m\u001b[0;34m\u001b[0m\u001b[0;34m\u001b[0m\u001b[0m\n",
      "\u001b[0;32m~/venv/lib/python3.8/site-packages/numba/core/dispatcher.py\u001b[0m in \u001b[0;36mcompile\u001b[0;34m(self, sig)\u001b[0m\n\u001b[1;32m    963\u001b[0m                 \u001b[0;32mwith\u001b[0m \u001b[0mev\u001b[0m\u001b[0;34m.\u001b[0m\u001b[0mtrigger_event\u001b[0m\u001b[0;34m(\u001b[0m\u001b[0;34m\"numba:compile\"\u001b[0m\u001b[0;34m,\u001b[0m \u001b[0mdata\u001b[0m\u001b[0;34m=\u001b[0m\u001b[0mev_details\u001b[0m\u001b[0;34m)\u001b[0m\u001b[0;34m:\u001b[0m\u001b[0;34m\u001b[0m\u001b[0;34m\u001b[0m\u001b[0m\n\u001b[1;32m    964\u001b[0m                     \u001b[0;32mtry\u001b[0m\u001b[0;34m:\u001b[0m\u001b[0;34m\u001b[0m\u001b[0;34m\u001b[0m\u001b[0m\n\u001b[0;32m--> 965\u001b[0;31m                         \u001b[0mcres\u001b[0m \u001b[0;34m=\u001b[0m \u001b[0mself\u001b[0m\u001b[0;34m.\u001b[0m\u001b[0m_compiler\u001b[0m\u001b[0;34m.\u001b[0m\u001b[0mcompile\u001b[0m\u001b[0;34m(\u001b[0m\u001b[0margs\u001b[0m\u001b[0;34m,\u001b[0m \u001b[0mreturn_type\u001b[0m\u001b[0;34m)\u001b[0m\u001b[0;34m\u001b[0m\u001b[0;34m\u001b[0m\u001b[0m\n\u001b[0m\u001b[1;32m    966\u001b[0m                     \u001b[0;32mexcept\u001b[0m \u001b[0merrors\u001b[0m\u001b[0;34m.\u001b[0m\u001b[0mForceLiteralArg\u001b[0m \u001b[0;32mas\u001b[0m \u001b[0me\u001b[0m\u001b[0;34m:\u001b[0m\u001b[0;34m\u001b[0m\u001b[0;34m\u001b[0m\u001b[0m\n\u001b[1;32m    967\u001b[0m                         \u001b[0;32mdef\u001b[0m \u001b[0mfolded\u001b[0m\u001b[0;34m(\u001b[0m\u001b[0margs\u001b[0m\u001b[0;34m,\u001b[0m \u001b[0mkws\u001b[0m\u001b[0;34m)\u001b[0m\u001b[0;34m:\u001b[0m\u001b[0;34m\u001b[0m\u001b[0;34m\u001b[0m\u001b[0m\n",
      "\u001b[0;32m~/venv/lib/python3.8/site-packages/numba/core/dispatcher.py\u001b[0m in \u001b[0;36mcompile\u001b[0;34m(self, args, return_type)\u001b[0m\n\u001b[1;32m    127\u001b[0m             \u001b[0;32mreturn\u001b[0m \u001b[0mretval\u001b[0m\u001b[0;34m\u001b[0m\u001b[0;34m\u001b[0m\u001b[0m\n\u001b[1;32m    128\u001b[0m         \u001b[0;32melse\u001b[0m\u001b[0;34m:\u001b[0m\u001b[0;34m\u001b[0m\u001b[0;34m\u001b[0m\u001b[0m\n\u001b[0;32m--> 129\u001b[0;31m             \u001b[0;32mraise\u001b[0m \u001b[0mretval\u001b[0m\u001b[0;34m\u001b[0m\u001b[0;34m\u001b[0m\u001b[0m\n\u001b[0m\u001b[1;32m    130\u001b[0m \u001b[0;34m\u001b[0m\u001b[0m\n\u001b[1;32m    131\u001b[0m     \u001b[0;32mdef\u001b[0m \u001b[0m_compile_cached\u001b[0m\u001b[0;34m(\u001b[0m\u001b[0mself\u001b[0m\u001b[0;34m,\u001b[0m \u001b[0margs\u001b[0m\u001b[0;34m,\u001b[0m \u001b[0mreturn_type\u001b[0m\u001b[0;34m)\u001b[0m\u001b[0;34m:\u001b[0m\u001b[0;34m\u001b[0m\u001b[0;34m\u001b[0m\u001b[0m\n",
      "\u001b[0;32m~/venv/lib/python3.8/site-packages/numba/core/dispatcher.py\u001b[0m in \u001b[0;36m_compile_cached\u001b[0;34m(self, args, return_type)\u001b[0m\n\u001b[1;32m    137\u001b[0m \u001b[0;34m\u001b[0m\u001b[0m\n\u001b[1;32m    138\u001b[0m         \u001b[0;32mtry\u001b[0m\u001b[0;34m:\u001b[0m\u001b[0;34m\u001b[0m\u001b[0;34m\u001b[0m\u001b[0m\n\u001b[0;32m--> 139\u001b[0;31m             \u001b[0mretval\u001b[0m \u001b[0;34m=\u001b[0m \u001b[0mself\u001b[0m\u001b[0;34m.\u001b[0m\u001b[0m_compile_core\u001b[0m\u001b[0;34m(\u001b[0m\u001b[0margs\u001b[0m\u001b[0;34m,\u001b[0m \u001b[0mreturn_type\u001b[0m\u001b[0;34m)\u001b[0m\u001b[0;34m\u001b[0m\u001b[0;34m\u001b[0m\u001b[0m\n\u001b[0m\u001b[1;32m    140\u001b[0m         \u001b[0;32mexcept\u001b[0m \u001b[0merrors\u001b[0m\u001b[0;34m.\u001b[0m\u001b[0mTypingError\u001b[0m \u001b[0;32mas\u001b[0m \u001b[0me\u001b[0m\u001b[0;34m:\u001b[0m\u001b[0;34m\u001b[0m\u001b[0;34m\u001b[0m\u001b[0m\n\u001b[1;32m    141\u001b[0m             \u001b[0mself\u001b[0m\u001b[0;34m.\u001b[0m\u001b[0m_failed_cache\u001b[0m\u001b[0;34m[\u001b[0m\u001b[0mkey\u001b[0m\u001b[0;34m]\u001b[0m \u001b[0;34m=\u001b[0m \u001b[0me\u001b[0m\u001b[0;34m\u001b[0m\u001b[0;34m\u001b[0m\u001b[0m\n",
      "\u001b[0;32m~/venv/lib/python3.8/site-packages/numba/core/dispatcher.py\u001b[0m in \u001b[0;36m_compile_core\u001b[0;34m(self, args, return_type)\u001b[0m\n\u001b[1;32m    150\u001b[0m \u001b[0;34m\u001b[0m\u001b[0m\n\u001b[1;32m    151\u001b[0m         \u001b[0mimpl\u001b[0m \u001b[0;34m=\u001b[0m \u001b[0mself\u001b[0m\u001b[0;34m.\u001b[0m\u001b[0m_get_implementation\u001b[0m\u001b[0;34m(\u001b[0m\u001b[0margs\u001b[0m\u001b[0;34m,\u001b[0m \u001b[0;34m{\u001b[0m\u001b[0;34m}\u001b[0m\u001b[0;34m)\u001b[0m\u001b[0;34m\u001b[0m\u001b[0;34m\u001b[0m\u001b[0m\n\u001b[0;32m--> 152\u001b[0;31m         cres = compiler.compile_extra(self.targetdescr.typing_context,\n\u001b[0m\u001b[1;32m    153\u001b[0m                                       \u001b[0mself\u001b[0m\u001b[0;34m.\u001b[0m\u001b[0mtargetdescr\u001b[0m\u001b[0;34m.\u001b[0m\u001b[0mtarget_context\u001b[0m\u001b[0;34m,\u001b[0m\u001b[0;34m\u001b[0m\u001b[0;34m\u001b[0m\u001b[0m\n\u001b[1;32m    154\u001b[0m                                       \u001b[0mimpl\u001b[0m\u001b[0;34m,\u001b[0m\u001b[0;34m\u001b[0m\u001b[0;34m\u001b[0m\u001b[0m\n",
      "\u001b[0;32m~/venv/lib/python3.8/site-packages/numba/core/compiler.py\u001b[0m in \u001b[0;36mcompile_extra\u001b[0;34m(typingctx, targetctx, func, args, return_type, flags, locals, library, pipeline_class)\u001b[0m\n\u001b[1;32m    691\u001b[0m     pipeline = pipeline_class(typingctx, targetctx, library,\n\u001b[1;32m    692\u001b[0m                               args, return_type, flags, locals)\n\u001b[0;32m--> 693\u001b[0;31m     \u001b[0;32mreturn\u001b[0m \u001b[0mpipeline\u001b[0m\u001b[0;34m.\u001b[0m\u001b[0mcompile_extra\u001b[0m\u001b[0;34m(\u001b[0m\u001b[0mfunc\u001b[0m\u001b[0;34m)\u001b[0m\u001b[0;34m\u001b[0m\u001b[0;34m\u001b[0m\u001b[0m\n\u001b[0m\u001b[1;32m    694\u001b[0m \u001b[0;34m\u001b[0m\u001b[0m\n\u001b[1;32m    695\u001b[0m \u001b[0;34m\u001b[0m\u001b[0m\n",
      "\u001b[0;32m~/venv/lib/python3.8/site-packages/numba/core/compiler.py\u001b[0m in \u001b[0;36mcompile_extra\u001b[0;34m(self, func)\u001b[0m\n\u001b[1;32m    427\u001b[0m         \u001b[0mself\u001b[0m\u001b[0;34m.\u001b[0m\u001b[0mstate\u001b[0m\u001b[0;34m.\u001b[0m\u001b[0mlifted\u001b[0m \u001b[0;34m=\u001b[0m \u001b[0;34m(\u001b[0m\u001b[0;34m)\u001b[0m\u001b[0;34m\u001b[0m\u001b[0;34m\u001b[0m\u001b[0m\n\u001b[1;32m    428\u001b[0m         \u001b[0mself\u001b[0m\u001b[0;34m.\u001b[0m\u001b[0mstate\u001b[0m\u001b[0;34m.\u001b[0m\u001b[0mlifted_from\u001b[0m \u001b[0;34m=\u001b[0m \u001b[0;32mNone\u001b[0m\u001b[0;34m\u001b[0m\u001b[0;34m\u001b[0m\u001b[0m\n\u001b[0;32m--> 429\u001b[0;31m         \u001b[0;32mreturn\u001b[0m \u001b[0mself\u001b[0m\u001b[0;34m.\u001b[0m\u001b[0m_compile_bytecode\u001b[0m\u001b[0;34m(\u001b[0m\u001b[0;34m)\u001b[0m\u001b[0;34m\u001b[0m\u001b[0;34m\u001b[0m\u001b[0m\n\u001b[0m\u001b[1;32m    430\u001b[0m \u001b[0;34m\u001b[0m\u001b[0m\n\u001b[1;32m    431\u001b[0m     \u001b[0;32mdef\u001b[0m \u001b[0mcompile_ir\u001b[0m\u001b[0;34m(\u001b[0m\u001b[0mself\u001b[0m\u001b[0;34m,\u001b[0m \u001b[0mfunc_ir\u001b[0m\u001b[0;34m,\u001b[0m \u001b[0mlifted\u001b[0m\u001b[0;34m=\u001b[0m\u001b[0;34m(\u001b[0m\u001b[0;34m)\u001b[0m\u001b[0;34m,\u001b[0m \u001b[0mlifted_from\u001b[0m\u001b[0;34m=\u001b[0m\u001b[0;32mNone\u001b[0m\u001b[0;34m)\u001b[0m\u001b[0;34m:\u001b[0m\u001b[0;34m\u001b[0m\u001b[0;34m\u001b[0m\u001b[0m\n",
      "\u001b[0;32m~/venv/lib/python3.8/site-packages/numba/core/compiler.py\u001b[0m in \u001b[0;36m_compile_bytecode\u001b[0;34m(self)\u001b[0m\n\u001b[1;32m    495\u001b[0m         \"\"\"\n\u001b[1;32m    496\u001b[0m         \u001b[0;32massert\u001b[0m \u001b[0mself\u001b[0m\u001b[0;34m.\u001b[0m\u001b[0mstate\u001b[0m\u001b[0;34m.\u001b[0m\u001b[0mfunc_ir\u001b[0m \u001b[0;32mis\u001b[0m \u001b[0;32mNone\u001b[0m\u001b[0;34m\u001b[0m\u001b[0;34m\u001b[0m\u001b[0m\n\u001b[0;32m--> 497\u001b[0;31m         \u001b[0;32mreturn\u001b[0m \u001b[0mself\u001b[0m\u001b[0;34m.\u001b[0m\u001b[0m_compile_core\u001b[0m\u001b[0;34m(\u001b[0m\u001b[0;34m)\u001b[0m\u001b[0;34m\u001b[0m\u001b[0;34m\u001b[0m\u001b[0m\n\u001b[0m\u001b[1;32m    498\u001b[0m \u001b[0;34m\u001b[0m\u001b[0m\n\u001b[1;32m    499\u001b[0m     \u001b[0;32mdef\u001b[0m \u001b[0m_compile_ir\u001b[0m\u001b[0;34m(\u001b[0m\u001b[0mself\u001b[0m\u001b[0;34m)\u001b[0m\u001b[0;34m:\u001b[0m\u001b[0;34m\u001b[0m\u001b[0;34m\u001b[0m\u001b[0m\n",
      "\u001b[0;32m~/venv/lib/python3.8/site-packages/numba/core/compiler.py\u001b[0m in \u001b[0;36m_compile_core\u001b[0;34m(self)\u001b[0m\n\u001b[1;32m    474\u001b[0m                     \u001b[0mself\u001b[0m\u001b[0;34m.\u001b[0m\u001b[0mstate\u001b[0m\u001b[0;34m.\u001b[0m\u001b[0mstatus\u001b[0m\u001b[0;34m.\u001b[0m\u001b[0mfail_reason\u001b[0m \u001b[0;34m=\u001b[0m \u001b[0me\u001b[0m\u001b[0;34m\u001b[0m\u001b[0;34m\u001b[0m\u001b[0m\n\u001b[1;32m    475\u001b[0m                     \u001b[0;32mif\u001b[0m \u001b[0mis_final_pipeline\u001b[0m\u001b[0;34m:\u001b[0m\u001b[0;34m\u001b[0m\u001b[0;34m\u001b[0m\u001b[0m\n\u001b[0;32m--> 476\u001b[0;31m                         \u001b[0;32mraise\u001b[0m \u001b[0me\u001b[0m\u001b[0;34m\u001b[0m\u001b[0;34m\u001b[0m\u001b[0m\n\u001b[0m\u001b[1;32m    477\u001b[0m             \u001b[0;32melse\u001b[0m\u001b[0;34m:\u001b[0m\u001b[0;34m\u001b[0m\u001b[0;34m\u001b[0m\u001b[0m\n\u001b[1;32m    478\u001b[0m                 \u001b[0;32mraise\u001b[0m \u001b[0mCompilerError\u001b[0m\u001b[0;34m(\u001b[0m\u001b[0;34m\"All available pipelines exhausted\"\u001b[0m\u001b[0;34m)\u001b[0m\u001b[0;34m\u001b[0m\u001b[0;34m\u001b[0m\u001b[0m\n",
      "\u001b[0;32m~/venv/lib/python3.8/site-packages/numba/core/compiler.py\u001b[0m in \u001b[0;36m_compile_core\u001b[0;34m(self)\u001b[0m\n\u001b[1;32m    461\u001b[0m                 \u001b[0mres\u001b[0m \u001b[0;34m=\u001b[0m \u001b[0;32mNone\u001b[0m\u001b[0;34m\u001b[0m\u001b[0;34m\u001b[0m\u001b[0m\n\u001b[1;32m    462\u001b[0m                 \u001b[0;32mtry\u001b[0m\u001b[0;34m:\u001b[0m\u001b[0;34m\u001b[0m\u001b[0;34m\u001b[0m\u001b[0m\n\u001b[0;32m--> 463\u001b[0;31m                     \u001b[0mpm\u001b[0m\u001b[0;34m.\u001b[0m\u001b[0mrun\u001b[0m\u001b[0;34m(\u001b[0m\u001b[0mself\u001b[0m\u001b[0;34m.\u001b[0m\u001b[0mstate\u001b[0m\u001b[0;34m)\u001b[0m\u001b[0;34m\u001b[0m\u001b[0;34m\u001b[0m\u001b[0m\n\u001b[0m\u001b[1;32m    464\u001b[0m                     \u001b[0;32mif\u001b[0m \u001b[0mself\u001b[0m\u001b[0;34m.\u001b[0m\u001b[0mstate\u001b[0m\u001b[0;34m.\u001b[0m\u001b[0mcr\u001b[0m \u001b[0;32mis\u001b[0m \u001b[0;32mnot\u001b[0m \u001b[0;32mNone\u001b[0m\u001b[0;34m:\u001b[0m\u001b[0;34m\u001b[0m\u001b[0;34m\u001b[0m\u001b[0m\n\u001b[1;32m    465\u001b[0m                         \u001b[0;32mbreak\u001b[0m\u001b[0;34m\u001b[0m\u001b[0;34m\u001b[0m\u001b[0m\n",
      "\u001b[0;32m~/venv/lib/python3.8/site-packages/numba/core/compiler_machinery.py\u001b[0m in \u001b[0;36mrun\u001b[0;34m(self, state)\u001b[0m\n\u001b[1;32m    351\u001b[0m                     \u001b[0;34m(\u001b[0m\u001b[0mself\u001b[0m\u001b[0;34m.\u001b[0m\u001b[0mpipeline_name\u001b[0m\u001b[0;34m,\u001b[0m \u001b[0mpass_desc\u001b[0m\u001b[0;34m)\u001b[0m\u001b[0;34m\u001b[0m\u001b[0;34m\u001b[0m\u001b[0m\n\u001b[1;32m    352\u001b[0m                 \u001b[0mpatched_exception\u001b[0m \u001b[0;34m=\u001b[0m \u001b[0mself\u001b[0m\u001b[0;34m.\u001b[0m\u001b[0m_patch_error\u001b[0m\u001b[0;34m(\u001b[0m\u001b[0mmsg\u001b[0m\u001b[0;34m,\u001b[0m \u001b[0me\u001b[0m\u001b[0;34m)\u001b[0m\u001b[0;34m\u001b[0m\u001b[0;34m\u001b[0m\u001b[0m\n\u001b[0;32m--> 353\u001b[0;31m                 \u001b[0;32mraise\u001b[0m \u001b[0mpatched_exception\u001b[0m\u001b[0;34m\u001b[0m\u001b[0;34m\u001b[0m\u001b[0m\n\u001b[0m\u001b[1;32m    354\u001b[0m \u001b[0;34m\u001b[0m\u001b[0m\n\u001b[1;32m    355\u001b[0m     \u001b[0;32mdef\u001b[0m \u001b[0mdependency_analysis\u001b[0m\u001b[0;34m(\u001b[0m\u001b[0mself\u001b[0m\u001b[0;34m)\u001b[0m\u001b[0;34m:\u001b[0m\u001b[0;34m\u001b[0m\u001b[0;34m\u001b[0m\u001b[0m\n",
      "\u001b[0;32m~/venv/lib/python3.8/site-packages/numba/core/compiler_machinery.py\u001b[0m in \u001b[0;36mrun\u001b[0;34m(self, state)\u001b[0m\n\u001b[1;32m    339\u001b[0m                 \u001b[0mpass_inst\u001b[0m \u001b[0;34m=\u001b[0m \u001b[0m_pass_registry\u001b[0m\u001b[0;34m.\u001b[0m\u001b[0mget\u001b[0m\u001b[0;34m(\u001b[0m\u001b[0mpss\u001b[0m\u001b[0;34m)\u001b[0m\u001b[0;34m.\u001b[0m\u001b[0mpass_inst\u001b[0m\u001b[0;34m\u001b[0m\u001b[0;34m\u001b[0m\u001b[0m\n\u001b[1;32m    340\u001b[0m                 \u001b[0;32mif\u001b[0m \u001b[0misinstance\u001b[0m\u001b[0;34m(\u001b[0m\u001b[0mpass_inst\u001b[0m\u001b[0;34m,\u001b[0m \u001b[0mCompilerPass\u001b[0m\u001b[0;34m)\u001b[0m\u001b[0;34m:\u001b[0m\u001b[0;34m\u001b[0m\u001b[0;34m\u001b[0m\u001b[0m\n\u001b[0;32m--> 341\u001b[0;31m                     \u001b[0mself\u001b[0m\u001b[0;34m.\u001b[0m\u001b[0m_runPass\u001b[0m\u001b[0;34m(\u001b[0m\u001b[0midx\u001b[0m\u001b[0;34m,\u001b[0m \u001b[0mpass_inst\u001b[0m\u001b[0;34m,\u001b[0m \u001b[0mstate\u001b[0m\u001b[0;34m)\u001b[0m\u001b[0;34m\u001b[0m\u001b[0;34m\u001b[0m\u001b[0m\n\u001b[0m\u001b[1;32m    342\u001b[0m                 \u001b[0;32melse\u001b[0m\u001b[0;34m:\u001b[0m\u001b[0;34m\u001b[0m\u001b[0;34m\u001b[0m\u001b[0m\n\u001b[1;32m    343\u001b[0m                     \u001b[0;32mraise\u001b[0m \u001b[0mBaseException\u001b[0m\u001b[0;34m(\u001b[0m\u001b[0;34m\"Legacy pass in use\"\u001b[0m\u001b[0;34m)\u001b[0m\u001b[0;34m\u001b[0m\u001b[0;34m\u001b[0m\u001b[0m\n",
      "\u001b[0;32m~/venv/lib/python3.8/site-packages/numba/core/compiler_lock.py\u001b[0m in \u001b[0;36m_acquire_compile_lock\u001b[0;34m(*args, **kwargs)\u001b[0m\n\u001b[1;32m     33\u001b[0m         \u001b[0;32mdef\u001b[0m \u001b[0m_acquire_compile_lock\u001b[0m\u001b[0;34m(\u001b[0m\u001b[0;34m*\u001b[0m\u001b[0margs\u001b[0m\u001b[0;34m,\u001b[0m \u001b[0;34m**\u001b[0m\u001b[0mkwargs\u001b[0m\u001b[0;34m)\u001b[0m\u001b[0;34m:\u001b[0m\u001b[0;34m\u001b[0m\u001b[0;34m\u001b[0m\u001b[0m\n\u001b[1;32m     34\u001b[0m             \u001b[0;32mwith\u001b[0m \u001b[0mself\u001b[0m\u001b[0;34m:\u001b[0m\u001b[0;34m\u001b[0m\u001b[0;34m\u001b[0m\u001b[0m\n\u001b[0;32m---> 35\u001b[0;31m                 \u001b[0;32mreturn\u001b[0m \u001b[0mfunc\u001b[0m\u001b[0;34m(\u001b[0m\u001b[0;34m*\u001b[0m\u001b[0margs\u001b[0m\u001b[0;34m,\u001b[0m \u001b[0;34m**\u001b[0m\u001b[0mkwargs\u001b[0m\u001b[0;34m)\u001b[0m\u001b[0;34m\u001b[0m\u001b[0;34m\u001b[0m\u001b[0m\n\u001b[0m\u001b[1;32m     36\u001b[0m         \u001b[0;32mreturn\u001b[0m \u001b[0m_acquire_compile_lock\u001b[0m\u001b[0;34m\u001b[0m\u001b[0;34m\u001b[0m\u001b[0m\n\u001b[1;32m     37\u001b[0m \u001b[0;34m\u001b[0m\u001b[0m\n",
      "\u001b[0;32m~/venv/lib/python3.8/site-packages/numba/core/compiler_machinery.py\u001b[0m in \u001b[0;36m_runPass\u001b[0;34m(self, index, pss, internal_state)\u001b[0m\n\u001b[1;32m    294\u001b[0m             \u001b[0mmutated\u001b[0m \u001b[0;34m|=\u001b[0m \u001b[0mcheck\u001b[0m\u001b[0;34m(\u001b[0m\u001b[0mpss\u001b[0m\u001b[0;34m.\u001b[0m\u001b[0mrun_initialization\u001b[0m\u001b[0;34m,\u001b[0m \u001b[0minternal_state\u001b[0m\u001b[0;34m)\u001b[0m\u001b[0;34m\u001b[0m\u001b[0;34m\u001b[0m\u001b[0m\n\u001b[1;32m    295\u001b[0m         \u001b[0;32mwith\u001b[0m \u001b[0mSimpleTimer\u001b[0m\u001b[0;34m(\u001b[0m\u001b[0;34m)\u001b[0m \u001b[0;32mas\u001b[0m \u001b[0mpass_time\u001b[0m\u001b[0;34m:\u001b[0m\u001b[0;34m\u001b[0m\u001b[0;34m\u001b[0m\u001b[0m\n\u001b[0;32m--> 296\u001b[0;31m             \u001b[0mmutated\u001b[0m \u001b[0;34m|=\u001b[0m \u001b[0mcheck\u001b[0m\u001b[0;34m(\u001b[0m\u001b[0mpss\u001b[0m\u001b[0;34m.\u001b[0m\u001b[0mrun_pass\u001b[0m\u001b[0;34m,\u001b[0m \u001b[0minternal_state\u001b[0m\u001b[0;34m)\u001b[0m\u001b[0;34m\u001b[0m\u001b[0;34m\u001b[0m\u001b[0m\n\u001b[0m\u001b[1;32m    297\u001b[0m         \u001b[0;32mwith\u001b[0m \u001b[0mSimpleTimer\u001b[0m\u001b[0;34m(\u001b[0m\u001b[0;34m)\u001b[0m \u001b[0;32mas\u001b[0m \u001b[0mfinalize_time\u001b[0m\u001b[0;34m:\u001b[0m\u001b[0;34m\u001b[0m\u001b[0;34m\u001b[0m\u001b[0m\n\u001b[1;32m    298\u001b[0m             \u001b[0mmutated\u001b[0m \u001b[0;34m|=\u001b[0m \u001b[0mcheck\u001b[0m\u001b[0;34m(\u001b[0m\u001b[0mpss\u001b[0m\u001b[0;34m.\u001b[0m\u001b[0mrun_finalizer\u001b[0m\u001b[0;34m,\u001b[0m \u001b[0minternal_state\u001b[0m\u001b[0;34m)\u001b[0m\u001b[0;34m\u001b[0m\u001b[0;34m\u001b[0m\u001b[0m\n",
      "\u001b[0;32m~/venv/lib/python3.8/site-packages/numba/core/compiler_machinery.py\u001b[0m in \u001b[0;36mcheck\u001b[0;34m(func, compiler_state)\u001b[0m\n\u001b[1;32m    267\u001b[0m \u001b[0;34m\u001b[0m\u001b[0m\n\u001b[1;32m    268\u001b[0m         \u001b[0;32mdef\u001b[0m \u001b[0mcheck\u001b[0m\u001b[0;34m(\u001b[0m\u001b[0mfunc\u001b[0m\u001b[0;34m,\u001b[0m \u001b[0mcompiler_state\u001b[0m\u001b[0;34m)\u001b[0m\u001b[0;34m:\u001b[0m\u001b[0;34m\u001b[0m\u001b[0;34m\u001b[0m\u001b[0m\n\u001b[0;32m--> 269\u001b[0;31m             \u001b[0mmangled\u001b[0m \u001b[0;34m=\u001b[0m \u001b[0mfunc\u001b[0m\u001b[0;34m(\u001b[0m\u001b[0mcompiler_state\u001b[0m\u001b[0;34m)\u001b[0m\u001b[0;34m\u001b[0m\u001b[0;34m\u001b[0m\u001b[0m\n\u001b[0m\u001b[1;32m    270\u001b[0m             \u001b[0;32mif\u001b[0m \u001b[0mmangled\u001b[0m \u001b[0;32mnot\u001b[0m \u001b[0;32min\u001b[0m \u001b[0;34m(\u001b[0m\u001b[0;32mTrue\u001b[0m\u001b[0;34m,\u001b[0m \u001b[0;32mFalse\u001b[0m\u001b[0;34m)\u001b[0m\u001b[0;34m:\u001b[0m\u001b[0;34m\u001b[0m\u001b[0;34m\u001b[0m\u001b[0m\n\u001b[1;32m    271\u001b[0m                 msg = (\"CompilerPass implementations should return True/False. \"\n",
      "\u001b[0;32m~/venv/lib/python3.8/site-packages/numba/core/typed_passes.py\u001b[0m in \u001b[0;36mrun_pass\u001b[0;34m(self, state)\u001b[0m\n\u001b[1;32m    103\u001b[0m                               % (state.func_id.func_name,)):\n\u001b[1;32m    104\u001b[0m             \u001b[0;31m# Type inference\u001b[0m\u001b[0;34m\u001b[0m\u001b[0;34m\u001b[0m\u001b[0;34m\u001b[0m\u001b[0m\n\u001b[0;32m--> 105\u001b[0;31m             typemap, return_type, calltypes, errs = type_inference_stage(\n\u001b[0m\u001b[1;32m    106\u001b[0m                 \u001b[0mstate\u001b[0m\u001b[0;34m.\u001b[0m\u001b[0mtypingctx\u001b[0m\u001b[0;34m,\u001b[0m\u001b[0;34m\u001b[0m\u001b[0;34m\u001b[0m\u001b[0m\n\u001b[1;32m    107\u001b[0m                 \u001b[0mstate\u001b[0m\u001b[0;34m.\u001b[0m\u001b[0mtargetctx\u001b[0m\u001b[0;34m,\u001b[0m\u001b[0;34m\u001b[0m\u001b[0;34m\u001b[0m\u001b[0m\n",
      "\u001b[0;32m~/venv/lib/python3.8/site-packages/numba/core/typed_passes.py\u001b[0m in \u001b[0;36mtype_inference_stage\u001b[0;34m(typingctx, targetctx, interp, args, return_type, locals, raise_errors)\u001b[0m\n\u001b[1;32m     81\u001b[0m         \u001b[0minfer\u001b[0m\u001b[0;34m.\u001b[0m\u001b[0mbuild_constraint\u001b[0m\u001b[0;34m(\u001b[0m\u001b[0;34m)\u001b[0m\u001b[0;34m\u001b[0m\u001b[0;34m\u001b[0m\u001b[0m\n\u001b[1;32m     82\u001b[0m         \u001b[0;31m# return errors in case of partial typing\u001b[0m\u001b[0;34m\u001b[0m\u001b[0;34m\u001b[0m\u001b[0;34m\u001b[0m\u001b[0m\n\u001b[0;32m---> 83\u001b[0;31m         \u001b[0merrs\u001b[0m \u001b[0;34m=\u001b[0m \u001b[0minfer\u001b[0m\u001b[0;34m.\u001b[0m\u001b[0mpropagate\u001b[0m\u001b[0;34m(\u001b[0m\u001b[0mraise_errors\u001b[0m\u001b[0;34m=\u001b[0m\u001b[0mraise_errors\u001b[0m\u001b[0;34m)\u001b[0m\u001b[0;34m\u001b[0m\u001b[0;34m\u001b[0m\u001b[0m\n\u001b[0m\u001b[1;32m     84\u001b[0m         \u001b[0mtypemap\u001b[0m\u001b[0;34m,\u001b[0m \u001b[0mrestype\u001b[0m\u001b[0;34m,\u001b[0m \u001b[0mcalltypes\u001b[0m \u001b[0;34m=\u001b[0m \u001b[0minfer\u001b[0m\u001b[0;34m.\u001b[0m\u001b[0munify\u001b[0m\u001b[0;34m(\u001b[0m\u001b[0mraise_errors\u001b[0m\u001b[0;34m=\u001b[0m\u001b[0mraise_errors\u001b[0m\u001b[0;34m)\u001b[0m\u001b[0;34m\u001b[0m\u001b[0;34m\u001b[0m\u001b[0m\n\u001b[1;32m     85\u001b[0m \u001b[0;34m\u001b[0m\u001b[0m\n",
      "\u001b[0;32m~/venv/lib/python3.8/site-packages/numba/core/typeinfer.py\u001b[0m in \u001b[0;36mpropagate\u001b[0;34m(self, raise_errors)\u001b[0m\n\u001b[1;32m   1084\u001b[0m                                   if isinstance(e, ForceLiteralArg)]\n\u001b[1;32m   1085\u001b[0m                 \u001b[0;32mif\u001b[0m \u001b[0;32mnot\u001b[0m \u001b[0mforce_lit_args\u001b[0m\u001b[0;34m:\u001b[0m\u001b[0;34m\u001b[0m\u001b[0;34m\u001b[0m\u001b[0m\n\u001b[0;32m-> 1086\u001b[0;31m                     \u001b[0;32mraise\u001b[0m \u001b[0merrors\u001b[0m\u001b[0;34m[\u001b[0m\u001b[0;36m0\u001b[0m\u001b[0;34m]\u001b[0m\u001b[0;34m\u001b[0m\u001b[0;34m\u001b[0m\u001b[0m\n\u001b[0m\u001b[1;32m   1087\u001b[0m                 \u001b[0;32melse\u001b[0m\u001b[0;34m:\u001b[0m\u001b[0;34m\u001b[0m\u001b[0;34m\u001b[0m\u001b[0m\n\u001b[1;32m   1088\u001b[0m                     \u001b[0;32mraise\u001b[0m \u001b[0mreduce\u001b[0m\u001b[0;34m(\u001b[0m\u001b[0moperator\u001b[0m\u001b[0;34m.\u001b[0m\u001b[0mor_\u001b[0m\u001b[0;34m,\u001b[0m \u001b[0mforce_lit_args\u001b[0m\u001b[0;34m)\u001b[0m\u001b[0;34m\u001b[0m\u001b[0;34m\u001b[0m\u001b[0m\n",
      "\u001b[0;31mTypingError\u001b[0m: Failed in nopython mode pipeline (step: nopython frontend)\n\u001b[1m\u001b[1mNo implementation of function Function(<built-in function getitem>) found for signature:\n \n >>> getitem(float64, float64)\n \nThere are 22 candidate implementations:\n\u001b[1m      - Of which 22 did not match due to:\n      Overload of function 'getitem': File: <numerous>: Line N/A.\n        With argument(s): '(float64, float64)':\u001b[0m\n\u001b[1m       No match.\u001b[0m\n\u001b[0m\n\u001b[0m\u001b[1mDuring: typing of intrinsic-call at /tmp/ipykernel_26941/2190005536.py (10)\u001b[0m\n\u001b[1m\nFile \"../ipykernel_26941/2190005536.py\", line 10:\u001b[0m\n\u001b[1m<source missing, REPL/exec in use?>\u001b[0m\n"
     ]
    }
   ],
   "source": [
    "from numba import njit, set_num_threads\n",
    "from math import sqrt\n",
    "\n",
    "@njit('double(double,double)')\n",
    "def inner_test_f(a, b):\n",
    "    return sqrt(a - b + (a - b) * (a + b))\n",
    "\n",
    "@njit('double(double,double,double)')\n",
    "def inner_test_f2(i,j,a):\n",
    "    return sqrt(a[i] - a[j] + (a[i] - a[j]) * (a[i] + a[j]))\n",
    "\n",
    "@njit\n",
    "def test_f(a, b):\n",
    "    acc = 0\n",
    "    for i in range(len(a)):\n",
    "        acc += inner_test_f( a[i], b[i])\n",
    "    return acc\n",
    "\n",
    "@njit\n",
    "def test_f2(a, dist:int):\n",
    "    acc = 0\n",
    "    l = len(a)\n",
    "    for i in range(l - dist):\n",
    "        acc +=  inner_test_f(a[i], a[(i+dist)]) \n",
    "    offset = l-dist\n",
    "    for i in range(dist):\n",
    "        acc +=   inner_test_f(a[i+offset], a[i])\n",
    "    return acc\n",
    "\n",
    "@njit\n",
    "def test_f23(a, dist:int):\n",
    "    acc = 0\n",
    "    l = len(a)\n",
    "    for i in range(l - dist):\n",
    "        acc +=  inner_test_f2([i], [(i+dist)], a) \n",
    "    offset = l-dist\n",
    "    for i in range(dist):\n",
    "        acc +=   inner_test_f(a[i+offset], a[i])\n",
    "    return acc\n",
    "\n",
    "\n",
    "@njit\n",
    "def test_f4(a, dist:int, f):\n",
    "    acc = 0\n",
    "    l = len(a)\n",
    "    for i in range(l - dist):\n",
    "        acc +=  f(a[i], a[(i+dist)]) \n",
    "    offset = l-dist\n",
    "    for i in range(dist):\n",
    "        acc +=   f(a[i+offset], a[i])\n",
    "    return acc\n",
    "\n",
    "@njit\n",
    "def test_f3(a, dist:int):\n",
    "    acc = 0\n",
    "    l = int(len(a))\n",
    "    for i in range(l):\n",
    "        acc +=  a[i]- a[int((i+dist)) and int(l-1)]  \n",
    "    return acc\n",
    "\n",
    "set_num_threads(1)"
   ]
  },
  {
   "cell_type": "code",
   "execution_count": 135,
   "id": "42e88f5a-299b-43f4-9a94-349b5849e8fc",
   "metadata": {
    "execution": {
     "iopub.execute_input": "2022-07-11T13:40:32.891220Z",
     "iopub.status.busy": "2022-07-11T13:40:32.891009Z",
     "iopub.status.idle": "2022-07-11T13:40:35.721474Z",
     "shell.execute_reply": "2022-07-11T13:40:35.720242Z",
     "shell.execute_reply.started": "2022-07-11T13:40:32.891201Z"
    },
    "tags": []
   },
   "outputs": [
    {
     "name": "stdout",
     "output_type": "stream",
     "text": [
      "344 ms ± 49.4 ms per loop (mean ± std. dev. of 7 runs, 1 loop each)\n"
     ]
    }
   ],
   "source": [
    "%timeit test_f(a, b)"
   ]
  },
  {
   "cell_type": "code",
   "execution_count": 136,
   "id": "8464b326-02d5-45f7-97f4-7494ddc14a37",
   "metadata": {
    "execution": {
     "iopub.execute_input": "2022-07-11T13:40:35.738514Z",
     "iopub.status.busy": "2022-07-11T13:40:35.738141Z",
     "iopub.status.idle": "2022-07-11T13:40:39.429697Z",
     "shell.execute_reply": "2022-07-11T13:40:39.429204Z",
     "shell.execute_reply.started": "2022-07-11T13:40:35.738489Z"
    },
    "tags": []
   },
   "outputs": [
    {
     "name": "stdout",
     "output_type": "stream",
     "text": [
      "460 ms ± 449 µs per loop (mean ± std. dev. of 7 runs, 1 loop each)\n"
     ]
    }
   ],
   "source": [
    "%timeit test_f(a, np.roll(a,10))"
   ]
  },
  {
   "cell_type": "code",
   "execution_count": 137,
   "id": "8d440e32-6d02-44cd-a95d-4b7389790027",
   "metadata": {
    "execution": {
     "iopub.execute_input": "2022-07-11T13:40:39.431635Z",
     "iopub.status.busy": "2022-07-11T13:40:39.431450Z",
     "iopub.status.idle": "2022-07-11T13:40:42.011252Z",
     "shell.execute_reply": "2022-07-11T13:40:42.010550Z",
     "shell.execute_reply.started": "2022-07-11T13:40:39.431614Z"
    },
    "tags": []
   },
   "outputs": [
    {
     "name": "stdout",
     "output_type": "stream",
     "text": [
      "321 ms ± 1.01 ms per loop (mean ± std. dev. of 7 runs, 1 loop each)\n"
     ]
    }
   ],
   "source": [
    "%timeit test_f(a[:-10], a[10:]);test_f(a[-10:], a[:10])"
   ]
  },
  {
   "cell_type": "code",
   "execution_count": 157,
   "id": "dd5a869d-4a6a-4a5d-bd88-f79e3ab08c4d",
   "metadata": {
    "execution": {
     "iopub.execute_input": "2022-07-12T08:16:42.894270Z",
     "iopub.status.busy": "2022-07-12T08:16:42.893829Z",
     "iopub.status.idle": "2022-07-12T08:16:45.845943Z",
     "shell.execute_reply": "2022-07-12T08:16:45.845525Z",
     "shell.execute_reply.started": "2022-07-12T08:16:42.894244Z"
    },
    "tags": []
   },
   "outputs": [
    {
     "name": "stdout",
     "output_type": "stream",
     "text": [
      "360 ms ± 46.4 ms per loop (mean ± std. dev. of 7 runs, 1 loop each)\n"
     ]
    }
   ],
   "source": [
    "%timeit test_f2(a, int(10))"
   ]
  },
  {
   "cell_type": "code",
   "execution_count": 156,
   "id": "088744b6-fdbb-4626-bd95-17d994ffcb9c",
   "metadata": {
    "execution": {
     "iopub.execute_input": "2022-07-12T08:16:38.010899Z",
     "iopub.status.busy": "2022-07-12T08:16:38.010666Z",
     "iopub.status.idle": "2022-07-12T08:16:40.898577Z",
     "shell.execute_reply": "2022-07-12T08:16:40.898156Z",
     "shell.execute_reply.started": "2022-07-12T08:16:38.010881Z"
    },
    "tags": []
   },
   "outputs": [
    {
     "name": "stdout",
     "output_type": "stream",
     "text": [
      "355 ms ± 63.3 ms per loop (mean ± std. dev. of 7 runs, 1 loop each)\n"
     ]
    }
   ],
   "source": [
    "%timeit test_f4(a, int(10),inner_test_f)"
   ]
  },
  {
   "cell_type": "code",
   "execution_count": 139,
   "id": "284c8092-e182-4cbb-b459-aff707e5ebc6",
   "metadata": {
    "execution": {
     "iopub.execute_input": "2022-07-11T13:40:44.662198Z",
     "iopub.status.busy": "2022-07-11T13:40:44.662057Z",
     "iopub.status.idle": "2022-07-11T13:40:54.257722Z",
     "shell.execute_reply": "2022-07-11T13:40:54.257025Z",
     "shell.execute_reply.started": "2022-07-11T13:40:44.662180Z"
    },
    "tags": []
   },
   "outputs": [
    {
     "name": "stdout",
     "output_type": "stream",
     "text": [
      "117 ms ± 490 µs per loop (mean ± std. dev. of 7 runs, 10 loops each)\n"
     ]
    }
   ],
   "source": [
    "%timeit test_f3(a, int(10))"
   ]
  },
  {
   "cell_type": "code",
   "execution_count": 140,
   "id": "3a4252f7-cd8d-4f7f-9fad-2cee029b58eb",
   "metadata": {
    "execution": {
     "iopub.execute_input": "2022-07-11T13:40:54.259178Z",
     "iopub.status.busy": "2022-07-11T13:40:54.259039Z",
     "iopub.status.idle": "2022-07-11T13:40:54.264008Z",
     "shell.execute_reply": "2022-07-11T13:40:54.263666Z",
     "shell.execute_reply.started": "2022-07-11T13:40:54.259161Z"
    },
    "tags": []
   },
   "outputs": [
    {
     "data": {
      "text/plain": [
       "4"
      ]
     },
     "execution_count": 140,
     "metadata": {},
     "output_type": "execute_result"
    }
   ],
   "source": [
    "ne.set_num_threads(4)"
   ]
  },
  {
   "cell_type": "code",
   "execution_count": 122,
   "id": "b3cb61e0-ed8d-4b0c-bbbd-a17fb8116a4b",
   "metadata": {
    "execution": {
     "iopub.execute_input": "2022-07-11T13:36:01.278040Z",
     "iopub.status.busy": "2022-07-11T13:36:01.277944Z",
     "iopub.status.idle": "2022-07-11T13:36:04.349826Z",
     "shell.execute_reply": "2022-07-11T13:36:04.349417Z",
     "shell.execute_reply.started": "2022-07-11T13:36:01.278028Z"
    },
    "tags": []
   },
   "outputs": [
    {
     "name": "stdout",
     "output_type": "stream",
     "text": [
      "3.77 ms ± 37.9 µs per loop (mean ± std. dev. of 7 runs, 100 loops each)\n"
     ]
    }
   ],
   "source": [
    "%timeit ne.evaluate('sum(a-b)')"
   ]
  },
  {
   "cell_type": "code",
   "execution_count": 123,
   "id": "e418fcfb-6596-49b2-80cd-073f9dfeb5c5",
   "metadata": {
    "execution": {
     "iopub.execute_input": "2022-07-11T13:36:04.350663Z",
     "iopub.status.busy": "2022-07-11T13:36:04.350522Z",
     "iopub.status.idle": "2022-07-11T13:36:11.390904Z",
     "shell.execute_reply": "2022-07-11T13:36:11.390491Z",
     "shell.execute_reply.started": "2022-07-11T13:36:04.350648Z"
    },
    "tags": []
   },
   "outputs": [
    {
     "name": "stdout",
     "output_type": "stream",
     "text": [
      "8.61 ms ± 440 µs per loop (mean ± std. dev. of 7 runs, 100 loops each)\n"
     ]
    }
   ],
   "source": [
    "%timeit np.sum(ne.evaluate('sqrt(a - b + (a - b) * (a + b))'))"
   ]
  },
  {
   "cell_type": "code",
   "execution_count": 85,
   "id": "4ccadfa4-9a02-457a-99d2-314fa37a4c63",
   "metadata": {
    "execution": {
     "iopub.execute_input": "2022-07-11T13:06:28.891853Z",
     "iopub.status.busy": "2022-07-11T13:06:28.891593Z",
     "iopub.status.idle": "2022-07-11T13:07:16.104817Z",
     "shell.execute_reply": "2022-07-11T13:07:16.104069Z",
     "shell.execute_reply.started": "2022-07-11T13:06:28.891835Z"
    },
    "tags": []
   },
   "outputs": [],
   "source": [
    "for i in range(100):\n",
    "    np.sum(ne.evaluate('sqrt(a - b + (a - b) * (a + b))'))"
   ]
  },
  {
   "cell_type": "code",
   "execution_count": null,
   "id": "6ec1fbb0-abba-4ee0-810c-7903576d138c",
   "metadata": {},
   "outputs": [],
   "source": []
  },
  {
   "cell_type": "code",
   "execution_count": 47,
   "id": "aa1a55b1-8d5d-473b-83fe-c436216d7000",
   "metadata": {
    "execution": {
     "iopub.execute_input": "2022-07-09T13:52:38.260416Z",
     "iopub.status.busy": "2022-07-09T13:52:38.260247Z",
     "iopub.status.idle": "2022-07-09T13:52:39.866058Z",
     "shell.execute_reply": "2022-07-09T13:52:39.865347Z",
     "shell.execute_reply.started": "2022-07-09T13:52:38.260400Z"
    },
    "tags": []
   },
   "outputs": [
    {
     "name": "stdout",
     "output_type": "stream",
     "text": [
      "200 ms ± 576 µs per loop (mean ± std. dev. of 7 runs, 1 loop each)\n"
     ]
    }
   ],
   "source": [
    "%timeit (flat_data[:-10] - flat_data[10:]).sum()"
   ]
  },
  {
   "cell_type": "code",
   "execution_count": 40,
   "id": "b78ab80b-a6f0-4df4-81bc-8e94cbf0134b",
   "metadata": {
    "execution": {
     "iopub.execute_input": "2022-07-09T13:50:01.844650Z",
     "iopub.status.busy": "2022-07-09T13:50:01.844343Z",
     "iopub.status.idle": "2022-07-09T13:50:01.847293Z",
     "shell.execute_reply": "2022-07-09T13:50:01.846822Z",
     "shell.execute_reply.started": "2022-07-09T13:50:01.844632Z"
    },
    "tags": []
   },
   "outputs": [],
   "source": [
    "#indexes = (np.arange(128*128*128, dtype=np.int32)+10)%128\n",
    "flat_data = data.reshape(-1)"
   ]
  },
  {
   "cell_type": "code",
   "execution_count": 30,
   "id": "efcd7c04-b8aa-4500-a0f6-c49f8bbdbcb5",
   "metadata": {
    "execution": {
     "iopub.execute_input": "2022-07-09T13:45:38.618758Z",
     "iopub.status.busy": "2022-07-09T13:45:38.618573Z",
     "iopub.status.idle": "2022-07-09T13:45:38.621510Z",
     "shell.execute_reply": "2022-07-09T13:45:38.621176Z",
     "shell.execute_reply.started": "2022-07-09T13:45:38.618741Z"
    },
    "tags": []
   },
   "outputs": [],
   "source": [
    "test = flat_data[:-10]"
   ]
  },
  {
   "cell_type": "code",
   "execution_count": null,
   "id": "4655bdc8-2f70-45c3-a853-c7d7f9040901",
   "metadata": {
    "tags": []
   },
   "outputs": [],
   "source": [
    "for v i vectors:\n",
    "    for law in laws:\n",
    "        for t in law:\n",
    "            apply(v,t)"
   ]
  },
  {
   "cell_type": "code",
   "execution_count": 57,
   "id": "2126e02c-8784-400d-b5a7-2120cc6a2f92",
   "metadata": {
    "execution": {
     "iopub.execute_input": "2022-07-09T13:58:52.414869Z",
     "iopub.status.busy": "2022-07-09T13:58:52.414707Z",
     "iopub.status.idle": "2022-07-09T13:58:52.419352Z",
     "shell.execute_reply": "2022-07-09T13:58:52.418928Z",
     "shell.execute_reply.started": "2022-07-09T13:58:52.414854Z"
    },
    "tags": []
   },
   "outputs": [
    {
     "data": {
      "text/plain": [
       "4"
      ]
     },
     "execution_count": 57,
     "metadata": {},
     "output_type": "execute_result"
    }
   ],
   "source": [
    "a=flat_data[:-10] \n",
    "b=flat_data[10:]\n",
    "ne.set_num_threads(4)"
   ]
  },
  {
   "cell_type": "code",
   "execution_count": 42,
   "id": "f0d31d70-4547-4757-8058-f47d93358a07",
   "metadata": {
    "execution": {
     "iopub.execute_input": "2022-07-09T13:50:07.575669Z",
     "iopub.status.busy": "2022-07-09T13:50:07.575496Z",
     "iopub.status.idle": "2022-07-09T13:50:07.579117Z",
     "shell.execute_reply": "2022-07-09T13:50:07.578690Z",
     "shell.execute_reply.started": "2022-07-09T13:50:07.575653Z"
    },
    "tags": []
   },
   "outputs": [
    {
     "data": {
      "text/plain": [
       "1023.9999237060547"
      ]
     },
     "execution_count": 42,
     "metadata": {},
     "output_type": "execute_result"
    }
   ],
   "source": [
    "a.nbytes/1024/1024"
   ]
  },
  {
   "cell_type": "code",
   "execution_count": 58,
   "id": "193be28d-4e72-46c7-b1ec-d6ffe54993e4",
   "metadata": {
    "execution": {
     "iopub.execute_input": "2022-07-09T13:58:55.089733Z",
     "iopub.status.busy": "2022-07-09T13:58:55.089579Z",
     "iopub.status.idle": "2022-07-09T13:58:59.047290Z",
     "shell.execute_reply": "2022-07-09T13:58:59.046704Z",
     "shell.execute_reply.started": "2022-07-09T13:58:55.089718Z"
    },
    "tags": []
   },
   "outputs": [
    {
     "name": "stdout",
     "output_type": "stream",
     "text": [
      "494 ms ± 824 µs per loop (mean ± std. dev. of 7 runs, 1 loop each)\n"
     ]
    }
   ],
   "source": [
    "%timeit ne.evaluate('sum((a*a - b*b)/(a*a + b*b))', casting='same_kind')"
   ]
  },
  {
   "cell_type": "code",
   "execution_count": 2,
   "id": "09c730c8-0c9c-454b-a175-6f6de93e1a2d",
   "metadata": {
    "execution": {
     "iopub.execute_input": "2022-07-09T14:19:58.330838Z",
     "iopub.status.busy": "2022-07-09T14:19:58.330745Z",
     "iopub.status.idle": "2022-07-09T14:19:58.430290Z",
     "shell.execute_reply": "2022-07-09T14:19:58.429855Z",
     "shell.execute_reply.started": "2022-07-09T14:19:58.330823Z"
    },
    "tags": []
   },
   "outputs": [],
   "source": [
    "import cupy as cp"
   ]
  },
  {
   "cell_type": "code",
   "execution_count": 3,
   "id": "2ebd618d-dbdb-4aa3-82b9-01a166d834f4",
   "metadata": {
    "execution": {
     "iopub.execute_input": "2022-07-09T14:19:58.431057Z",
     "iopub.status.busy": "2022-07-09T14:19:58.430937Z",
     "iopub.status.idle": "2022-07-09T14:20:10.746052Z",
     "shell.execute_reply": "2022-07-09T14:20:10.745439Z",
     "shell.execute_reply.started": "2022-07-09T14:19:58.431037Z"
    },
    "tags": []
   },
   "outputs": [],
   "source": [
    "data = cp.array(np.random.random((1024*1024*1024)))"
   ]
  },
  {
   "cell_type": "code",
   "execution_count": 4,
   "id": "f87e0ea8-ebae-44e3-9fa1-cfbddf51025f",
   "metadata": {
    "execution": {
     "iopub.execute_input": "2022-07-09T14:20:10.746941Z",
     "iopub.status.busy": "2022-07-09T14:20:10.746828Z",
     "iopub.status.idle": "2022-07-09T14:20:12.278233Z",
     "shell.execute_reply": "2022-07-09T14:20:12.277749Z",
     "shell.execute_reply.started": "2022-07-09T14:20:10.746927Z"
    },
    "tags": []
   },
   "outputs": [
    {
     "data": {
      "text/plain": [
       "array(-1.78951678e+08)"
      ]
     },
     "execution_count": 4,
     "metadata": {},
     "output_type": "execute_result"
    }
   ],
   "source": [
    "cp.sum(cp.multiply(data , data) - cp.roll(data,10,0))"
   ]
  },
  {
   "cell_type": "code",
   "execution_count": 7,
   "id": "aa53dccd-fe25-4481-80a8-0e9a99e4dc9b",
   "metadata": {
    "execution": {
     "iopub.execute_input": "2022-07-09T14:18:11.025584Z",
     "iopub.status.busy": "2022-07-09T14:18:11.025451Z",
     "iopub.status.idle": "2022-07-09T14:18:17.722297Z",
     "shell.execute_reply": "2022-07-09T14:18:17.721318Z",
     "shell.execute_reply.started": "2022-07-09T14:18:11.025566Z"
    },
    "tags": []
   },
   "outputs": [],
   "source": [
    "data = np.random.random((1024*1024*1024))"
   ]
  },
  {
   "cell_type": "code",
   "execution_count": 8,
   "id": "bbf371bc-1d95-4b97-8fa0-ab0af0db00a3",
   "metadata": {
    "execution": {
     "iopub.execute_input": "2022-07-09T14:18:17.723755Z",
     "iopub.status.busy": "2022-07-09T14:18:17.723613Z",
     "iopub.status.idle": "2022-07-09T14:18:20.752129Z",
     "shell.execute_reply": "2022-07-09T14:18:20.751469Z",
     "shell.execute_reply.started": "2022-07-09T14:18:17.723737Z"
    },
    "tags": []
   },
   "outputs": [
    {
     "data": {
      "text/plain": [
       "-1.1965983759409937e-12"
      ]
     },
     "execution_count": 8,
     "metadata": {},
     "output_type": "execute_result"
    }
   ],
   "source": [
    "np.sum(data - np.roll(data,10,0))"
   ]
  },
  {
   "cell_type": "code",
   "execution_count": 22,
   "id": "335648b3-9337-4c7b-b7ac-d3b7f501ea53",
   "metadata": {
    "execution": {
     "iopub.execute_input": "2022-07-09T17:11:18.399141Z",
     "iopub.status.busy": "2022-07-09T17:11:18.398959Z",
     "iopub.status.idle": "2022-07-09T17:11:18.662256Z",
     "shell.execute_reply": "2022-07-09T17:11:18.661668Z",
     "shell.execute_reply.started": "2022-07-09T17:11:18.399124Z"
    },
    "tags": []
   },
   "outputs": [
    {
     "name": "stdout",
     "output_type": "stream",
     "text": [
      "jupyter_notebook_config.py  jupyter_server_config.py\n"
     ]
    }
   ],
   "source": [
    "!ls  /etc/jupyter"
   ]
  },
  {
   "cell_type": "code",
   "execution_count": 23,
   "id": "8bc1b65f-3da7-4701-9b5f-6d92fdd53b52",
   "metadata": {
    "execution": {
     "iopub.execute_input": "2022-07-09T17:11:39.366131Z",
     "iopub.status.busy": "2022-07-09T17:11:39.365944Z",
     "iopub.status.idle": "2022-07-09T17:11:39.627717Z",
     "shell.execute_reply": "2022-07-09T17:11:39.627141Z",
     "shell.execute_reply.started": "2022-07-09T17:11:39.366115Z"
    },
    "tags": []
   },
   "outputs": [
    {
     "name": "stdout",
     "output_type": "stream",
     "text": [
      "# Copyright (c) Jupyter Development Team.\n",
      "# Distributed under the terms of the Modified BSD License.\n",
      "# mypy: ignore-errors\n",
      "import os\n",
      "import stat\n",
      "import subprocess\n",
      "\n",
      "from jupyter_core.paths import jupyter_data_dir\n",
      "\n",
      "c = get_config()  # noqa: F821\n",
      "c.NotebookApp.ip = \"0.0.0.0\"\n",
      "c.NotebookApp.port = 8888\n",
      "c.NotebookApp.open_browser = False\n",
      "\n",
      "# https://github.com/jupyter/notebook/issues/3130\n",
      "c.FileContentsManager.delete_to_trash = False\n",
      "\n",
      "# Generate a self-signed certificate\n",
      "OPENSSL_CONFIG = \"\"\"\\\n",
      "[req]\n",
      "distinguished_name = req_distinguished_name\n",
      "[req_distinguished_name]\n",
      "\"\"\"\n",
      "if \"GEN_CERT\" in os.environ:\n",
      "    dir_name = jupyter_data_dir()\n",
      "    pem_file = os.path.join(dir_name, \"notebook.pem\")\n",
      "    os.makedirs(dir_name, exist_ok=True)\n",
      "\n",
      "    # Generate an openssl.cnf file to set the distinguished name\n",
      "    cnf_file = os.path.join(os.getenv(\"CONDA_DIR\", \"/usr/lib\"), \"ssl\", \"openssl.cnf\")\n",
      "    if not os.path.isfile(cnf_file):\n",
      "        with open(cnf_file, \"w\") as fh:\n",
      "            fh.write(OPENSSL_CONFIG)\n",
      "\n",
      "    # Generate a certificate if one doesn't exist on disk\n",
      "    subprocess.check_call(\n",
      "        [\n",
      "            \"openssl\",\n",
      "            \"req\",\n",
      "            \"-new\",\n",
      "            \"-newkey=rsa:2048\",\n",
      "            \"-days=365\",\n",
      "            \"-nodes\",\n",
      "            \"-x509\",\n",
      "            \"-subj=/C=XX/ST=XX/L=XX/O=generated/CN=generated\",\n",
      "            f\"-keyout={pem_file}\",\n",
      "            f\"-out={pem_file}\",\n",
      "        ]\n",
      "    )\n",
      "    # Restrict access to the file\n",
      "    os.chmod(pem_file, stat.S_IRUSR | stat.S_IWUSR)\n",
      "    c.NotebookApp.certfile = pem_file\n",
      "\n",
      "# Change default umask for all subprocesses of the notebook server if set in\n",
      "# the environment\n",
      "if \"NB_UMASK\" in os.environ:\n",
      "    os.umask(int(os.environ[\"NB_UMASK\"], 8))\n"
     ]
    }
   ],
   "source": [
    "!cat /etc/jupyter/jupyter_notebook_config.py"
   ]
  },
  {
   "cell_type": "code",
   "execution_count": null,
   "id": "0930bbc6-bff0-486a-82b0-96e9f7f5c5c5",
   "metadata": {},
   "outputs": [],
   "source": [
    "ne.evaluate('(A - B) * (C - D) ', A=.., C=...)"
   ]
  },
  {
   "cell_type": "code",
   "execution_count": 145,
   "id": "c7e09c9d-4a0f-4493-b983-b64840f5825e",
   "metadata": {
    "execution": {
     "iopub.execute_input": "2022-07-11T17:43:14.891939Z",
     "iopub.status.busy": "2022-07-11T17:43:14.891743Z",
     "iopub.status.idle": "2022-07-11T17:43:14.925424Z",
     "shell.execute_reply": "2022-07-11T17:43:14.924673Z",
     "shell.execute_reply.started": "2022-07-11T17:43:14.891922Z"
    },
    "tags": []
   },
   "outputs": [],
   "source": [
    "tttt=set( [ (i,i*100,i*1000) for i in range(31*31*100)] )"
   ]
  },
  {
   "cell_type": "code",
   "execution_count": 148,
   "id": "838147be-f63a-4d8b-9523-5f25a5ca0222",
   "metadata": {
    "execution": {
     "iopub.execute_input": "2022-07-11T17:44:34.951596Z",
     "iopub.status.busy": "2022-07-11T17:44:34.951400Z",
     "iopub.status.idle": "2022-07-11T17:44:34.971933Z",
     "shell.execute_reply": "2022-07-11T17:44:34.971356Z",
     "shell.execute_reply.started": "2022-07-11T17:44:34.951579Z"
    }
   },
   "outputs": [],
   "source": [
    "ttt= [ (i,i*100,i*1000) for i in range(31*31*100)] "
   ]
  },
  {
   "cell_type": "code",
   "execution_count": 146,
   "id": "93e9aa3c-c677-4fab-b016-598970639a99",
   "metadata": {
    "collapsed": true,
    "execution": {
     "iopub.execute_input": "2022-07-11T17:43:16.889793Z",
     "iopub.status.busy": "2022-07-11T17:43:16.889550Z",
     "iopub.status.idle": "2022-07-11T17:43:16.934970Z",
     "shell.execute_reply": "2022-07-11T17:43:16.934503Z",
     "shell.execute_reply.started": "2022-07-11T17:43:16.889775Z"
    },
    "jupyter": {
     "outputs_hidden": true
    },
    "tags": []
   },
   "outputs": [
    {
     "data": {
      "text/plain": [
       "{(78791, 7879100, 78791000),\n",
       " (92244, 9224400, 92244000),\n",
       " (62747, 6274700, 62747000),\n",
       " (76200, 7620000, 76200000),\n",
       " (53074, 5307400, 53074000),\n",
       " (60156, 6015600, 60156000),\n",
       " (86321, 8632100, 86321000),\n",
       " (37030, 3703000, 37030000),\n",
       " (83730, 8373000, 83730000),\n",
       " (1387, 138700, 1387000),\n",
       " (60604, 6060400, 60604000),\n",
       " (44560, 4456000, 44560000),\n",
       " (41969, 4196900, 41969000),\n",
       " (52810, 5281000, 52810000),\n",
       " (29684, 2968400, 29684000),\n",
       " (75961, 7596100, 75961000),\n",
       " (95983, 9598300, 95983000),\n",
       " (27093, 2709300, 27093000),\n",
       " (79939, 7993900, 79939000),\n",
       " (11049, 1104900, 11049000),\n",
       " (18579, 1857900, 18579000),\n",
       " (2535, 253500, 2535000),\n",
       " (52571, 5257100, 52571000),\n",
       " (42898, 4289800, 42898000),\n",
       " (26854, 2685400, 26854000),\n",
       " (93153, 9315300, 93153000),\n",
       " (28241, 2824100, 28241000),\n",
       " (34384, 3438400, 34384000),\n",
       " (18340, 1834000, 18340000),\n",
       " (78277, 7827700, 78277000),\n",
       " (62233, 6223300, 62233000),\n",
       " (69763, 6976300, 69763000),\n",
       " (873, 87300, 873000),\n",
       " (83216, 8321600, 83216000),\n",
       " (53719, 5371900, 53719000),\n",
       " (67172, 6717200, 67172000),\n",
       " (44046, 4404600, 44046000),\n",
       " (52296, 5229600, 52296000),\n",
       " (79425, 7942500, 79425000),\n",
       " (92650, 9265000, 92650000),\n",
       " (43782, 4378200, 43782000),\n",
       " (69524, 6952400, 69524000),\n",
       " (20656, 2065600, 20656000),\n",
       " (18065, 1806500, 18065000),\n",
       " (2021, 202100, 2021000),\n",
       " (52057, 5205700, 52057000),\n",
       " (9551, 955100, 9551000),\n",
       " (26340, 2634000, 26340000),\n",
       " (59587, 5958700, 59587000),\n",
       " (10296, 1029600, 10296000),\n",
       " (43543, 4354300, 43543000),\n",
       " (33870, 3387000, 33870000),\n",
       " (87436, 8743600, 87436000),\n",
       " (17826, 1782600, 17826000),\n",
       " (94966, 9496600, 94966000),\n",
       " (78922, 7892200, 78922000),\n",
       " (69249, 6924900, 69249000),\n",
       " (359, 35900, 359000),\n",
       " (53205, 5320500, 53205000),\n",
       " (10480, 1048000, 10480000),\n",
       " (7889, 788900, 7889000),\n",
       " (60735, 6073500, 60735000),\n",
       " (94727, 9472700, 94727000),\n",
       " (92136, 9213600, 92136000),\n",
       " (2711, 271100, 2711000),\n",
       " (43268, 4326800, 43268000),\n",
       " (69010, 6901000, 69010000),\n",
       " (120, 12000, 120000),\n",
       " (20142, 2014200, 20142000),\n",
       " (4098, 409800, 4098000),\n",
       " (11628, 1162800, 11628000),\n",
       " (51543, 5154300, 51543000),\n",
       " (84790, 8479000, 84790000),\n",
       " (9037, 903700, 9037000),\n",
       " (35499, 3549900, 35499000),\n",
       " (68746, 6874600, 68746000),\n",
       " (45620, 4562000, 45620000),\n",
       " (59073, 5907300, 59073000),\n",
       " (43029, 4302900, 43029000),\n",
       " (17312, 1731200, 17312000),\n",
       " (50559, 5055900, 50559000),\n",
       " (1268, 126800, 1268000),\n",
       " (34515, 3451500, 34515000),\n",
       " (94452, 9445200, 94452000),\n",
       " (11389, 1138900, 11389000),\n",
       " (78408, 7840800, 78408000),\n",
       " (85938, 8593800, 85938000),\n",
       " (9966, 996600, 9966000),\n",
       " (69894, 6989400, 69894000),\n",
       " (7375, 737500, 7375000),\n",
       " (60221, 6022100, 60221000),\n",
       " (1452, 145200, 1452000),\n",
       " (94213, 9421300, 94213000),\n",
       " (45345, 4534500, 45345000),\n",
       " (32853, 3285300, 32853000),\n",
       " (85699, 8569900, 85699000),\n",
       " (3584, 358400, 3584000),\n",
       " (9727, 972700, 9727000),\n",
       " (16809, 1680900, 16809000),\n",
       " (36831, 3683100, 36831000),\n",
       " (83108, 8310800, 83108000),\n",
       " (34240, 3424000, 34240000),\n",
       " (60702, 6070200, 60702000),\n",
       " (86867, 8686700, 86867000),\n",
       " (93949, 9394900, 93949000),\n",
       " (11114, 1111400, 11114000),\n",
       " (84276, 8427600, 84276000),\n",
       " (68232, 6823200, 68232000),\n",
       " (52188, 5218800, 52188000),\n",
       " (58559, 5855900, 58559000),\n",
       " (29062, 2906200, 29062000),\n",
       " (42515, 4251500, 42515000),\n",
       " (75762, 7576200, 75762000),\n",
       " (26471, 2647100, 26471000),\n",
       " (52636, 5263600, 52636000),\n",
       " (59718, 5971800, 59718000),\n",
       " (36592, 3659200, 36592000),\n",
       " (50045, 5004500, 50045000),\n",
       " (34001, 3400100, 34001000),\n",
       " (17957, 1795700, 17957000),\n",
       " (8284, 828400, 8284000),\n",
       " (41531, 4153100, 41531000),\n",
       " (88015, 8801500, 88015000),\n",
       " (19125, 1912500, 19125000),\n",
       " (71971, 7197100, 71971000),\n",
       " (9452, 945200, 9452000),\n",
       " (85424, 8542400, 85424000),\n",
       " (69380, 6938000, 69380000),\n",
       " (26655, 2665500, 26655000),\n",
       " (938, 93800, 938000),\n",
       " (93699, 9369900, 93699000),\n",
       " (77655, 7765500, 77655000),\n",
       " (34930, 3493000, 34930000),\n",
       " (18886, 1888600, 18886000),\n",
       " (32339, 3233900, 32339000),\n",
       " (85185, 8518500, 85185000),\n",
       " (16295, 1629500, 16295000),\n",
       " (36317, 3631700, 36317000),\n",
       " (86353, 8635300, 86353000),\n",
       " (93435, 9343500, 93435000),\n",
       " (70309, 7030900, 70309000),\n",
       " (83762, 8376200, 83762000),\n",
       " (27803, 2780300, 27803000),\n",
       " (54265, 5426500, 54265000),\n",
       " (67718, 6771800, 67718000),\n",
       " (51674, 5167400, 51674000),\n",
       " (77839, 7783900, 77839000),\n",
       " (75248, 7524800, 75248000),\n",
       " (52122, 5212200, 52122000),\n",
       " (59204, 5920400, 59204000),\n",
       " (36078, 3607800, 36078000),\n",
       " (43160, 4316000, 43160000),\n",
       " (49531, 4953100, 49531000),\n",
       " (20034, 2003400, 20034000),\n",
       " (33487, 3348700, 33487000),\n",
       " (17443, 1744300, 17443000),\n",
       " (43608, 4360800, 43608000),\n",
       " (41017, 4101700, 41017000),\n",
       " (67479, 6747900, 67479000),\n",
       " (18611, 1861100, 18611000),\n",
       " (71457, 7145700, 71457000),\n",
       " (26141, 2614100, 26141000),\n",
       " (10097, 1009700, 10097000),\n",
       " (424, 42400, 424000),\n",
       " (34416, 3441600, 34416000),\n",
       " (41498, 4149800, 41498000),\n",
       " (18372, 1837200, 18372000),\n",
       " (84671, 8467100, 84671000),\n",
       " (25902, 2590200, 25902000),\n",
       " (92921, 9292100, 92921000),\n",
       " (9858, 985800, 9858000),\n",
       " (69795, 6979500, 69795000),\n",
       " (76877, 7687700, 76877000),\n",
       " (27289, 2728900, 27289000),\n",
       " (53751, 5375100, 53751000),\n",
       " (77325, 7732500, 77325000),\n",
       " (61281, 6128100, 61281000),\n",
       " (74734, 7473400, 74734000),\n",
       " (45237, 4523700, 45237000),\n",
       " (58690, 5869000, 58690000),\n",
       " (35564, 3556400, 35564000),\n",
       " (42646, 4264600, 42646000),\n",
       " (68811, 6881100, 68811000),\n",
       " (95273, 9527300, 95273000),\n",
       " (19520, 1952000, 19520000),\n",
       " (66220, 6622000, 66220000),\n",
       " (92682, 9268200, 92682000),\n",
       " (43094, 4309400, 43094000),\n",
       " (51344, 5134400, 51344000),\n",
       " (84168, 8416800, 84168000),\n",
       " (35300, 3530000, 35300000),\n",
       " (61042, 6104200, 61042000),\n",
       " (12174, 1217400, 12174000),\n",
       " (58451, 5845100, 58451000),\n",
       " (9583, 958300, 9583000),\n",
       " (17113, 1711300, 17113000),\n",
       " (1069, 106900, 1069000),\n",
       " (67149, 6714900, 67149000),\n",
       " (93830, 9383000, 93830000),\n",
       " (51105, 5110500, 51105000),\n",
       " (64558, 6455800, 64558000),\n",
       " (35061, 3506100, 35061000),\n",
       " (25388, 2538800, 25388000),\n",
       " (52492, 5249200, 52492000),\n",
       " (9344, 934400, 9344000),\n",
       " (86484, 8648400, 86484000),\n",
       " (16874, 1687400, 16874000),\n",
       " (76811, 7681100, 76811000),\n",
       " (83893, 8389300, 83893000),\n",
       " (830, 83000, 830000),\n",
       " (60767, 6076700, 60767000),\n",
       " (44723, 4472300, 44723000),\n",
       " (1998, 199800, 1998000),\n",
       " (68297, 6829700, 68297000),\n",
       " (52253, 5225300, 52253000),\n",
       " (65706, 6570600, 65706000),\n",
       " (42580, 4258000, 42580000),\n",
       " (49662, 4966200, 49662000),\n",
       " (86245, 8624500, 86245000),\n",
       " (83654, 8365400, 83654000),\n",
       " (34786, 3478600, 34786000),\n",
       " (91184, 9118400, 91184000),\n",
       " (75140, 7514000, 75140000),\n",
       " (26272, 2627200, 26272000),\n",
       " (52014, 5201400, 52014000),\n",
       " (3146, 314600, 3146000),\n",
       " (555, 55500, 555000),\n",
       " (60264, 6026400, 60264000),\n",
       " (50591, 5059100, 50591000),\n",
       " (34547, 3454700, 34547000),\n",
       " (58121, 5812100, 58121000),\n",
       " (8830, 883000, 8830000),\n",
       " (42077, 4207700, 42077000),\n",
       " (26033, 2603300, 26033000),\n",
       " (85970, 8597000, 85970000),\n",
       " (16360, 1636000, 16360000),\n",
       " (69926, 6992600, 69926000),\n",
       " (316, 31600, 316000),\n",
       " (93500, 9350000, 93500000),\n",
       " (77456, 7745600, 77456000),\n",
       " (1484, 148400, 1484000),\n",
       " (61412, 6141200, 61412000),\n",
       " (51739, 5173900, 51739000),\n",
       " (85731, 8573100, 85731000),\n",
       " (87118, 8711800, 87118000),\n",
       " (93261, 9326100, 93261000),\n",
       " (77217, 7721700, 77217000),\n",
       " (74626, 7462600, 74626000),\n",
       " (25758, 2575800, 25758000),\n",
       " (51500, 5150000, 51500000),\n",
       " (2632, 263200, 2632000),\n",
       " (62341, 6234100, 62341000),\n",
       " (59750, 5975000, 59750000),\n",
       " (83324, 8332400, 83324000),\n",
       " (34033, 3403300, 34033000),\n",
       " (67280, 6728000, 67280000),\n",
       " (44154, 4415400, 44154000),\n",
       " (51236, 5123600, 51236000),\n",
       " (28110, 2811000, 28110000),\n",
       " (41563, 4156300, 41563000),\n",
       " (25519, 2551900, 25519000),\n",
       " (49093, 4909300, 49093000),\n",
       " (75555, 7555500, 75555000),\n",
       " (33049, 3304900, 33049000),\n",
       " (9923, 992300, 9923000),\n",
       " (76942, 7694200, 76942000),\n",
       " (8052, 805200, 8052000),\n",
       " (60898, 6089800, 60898000),\n",
       " (18173, 1817300, 18173000),\n",
       " (84472, 8447200, 84472000),\n",
       " (92747, 9274700, 92747000),\n",
       " (10404, 1040400, 10404000),\n",
       " (76703, 7670300, 76703000),\n",
       " (27835, 2783500, 27835000),\n",
       " (84233, 8423300, 84233000),\n",
       " (15343, 1534300, 15343000),\n",
       " (61827, 6182700, 61827000),\n",
       " (19321, 1932100, 19321000),\n",
       " (59236, 5923600, 59236000),\n",
       " (92483, 9248300, 92483000),\n",
       " (69357, 6935700, 69357000),\n",
       " (66766, 6676600, 66766000),\n",
       " (50722, 5072200, 50722000),\n",
       " (27596, 2759600, 27596000),\n",
       " (11552, 1155200, 11552000),\n",
       " (25005, 2500500, 25005000),\n",
       " (58252, 5825200, 58252000),\n",
       " (35126, 3512600, 35126000),\n",
       " (75041, 7504100, 75041000),\n",
       " (19082, 1908200, 19082000),\n",
       " (32535, 3253500, 32535000),\n",
       " (66527, 6652700, 66527000),\n",
       " (93631, 9363100, 93631000),\n",
       " (17659, 1765900, 17659000),\n",
       " (70505, 7050500, 70505000),\n",
       " (1615, 161500, 1615000),\n",
       " (67914, 6791400, 67914000),\n",
       " (9145, 914500, 9145000),\n",
       " (9890, 989000, 9890000),\n",
       " (76189, 7618900, 76189000),\n",
       " (33464, 3346400, 33464000),\n",
       " (93392, 9339200, 93392000),\n",
       " (17420, 1742000, 17420000),\n",
       " (83719, 8371900, 83719000),\n",
       " (1376, 137600, 1376000),\n",
       " (14829, 1482900, 14829000),\n",
       " (94560, 9456000, 94560000),\n",
       " (18807, 1880700, 18807000),\n",
       " (45269, 4526900, 45269000),\n",
       " (91969, 9196900, 91969000),\n",
       " (68843, 6884300, 68843000),\n",
       " (75925, 7592500, 75925000),\n",
       " (52799, 5279900, 52799000),\n",
       " (66252, 6625200, 66252000),\n",
       " (36755, 3675500, 36755000),\n",
       " (50208, 5020800, 50208000),\n",
       " (60329, 6032900, 60329000),\n",
       " (11038, 1103800, 11038000),\n",
       " (57738, 5773800, 57738000),\n",
       " (34612, 3461200, 34612000),\n",
       " (41694, 4169400, 41694000),\n",
       " (18568, 1856800, 18568000),\n",
       " (32021, 3202100, 32021000),\n",
       " (91730, 9173000, 91730000),\n",
       " (93117, 9311700, 93117000),\n",
       " (17145, 1714500, 17145000),\n",
       " (1101, 110100, 1101000),\n",
       " (8631, 863100, 8631000),\n",
       " (42623, 4262300, 42623000),\n",
       " (26579, 2657900, 26579000),\n",
       " (32950, 3295000, 32950000),\n",
       " (40032, 4003200, 40032000),\n",
       " (92878, 9287800, 92878000),\n",
       " (16906, 1690600, 16906000),\n",
       " (862, 86200, 862000),\n",
       " (94046, 9404600, 94046000),\n",
       " (78002, 7800200, 78002000),\n",
       " (91455, 9145500, 91455000),\n",
       " (8392, 839200, 8392000),\n",
       " (75411, 7541100, 75411000),\n",
       " (5801, 580100, 5801000),\n",
       " (52285, 5228500, 52285000),\n",
       " (59367, 5936700, 59367000),\n",
       " (85532, 8553200, 85532000),\n",
       " (36241, 3624100, 36241000),\n",
       " (42384, 4238400, 42384000),\n",
       " (82941, 8294100, 82941000),\n",
       " (59815, 5981500, 59815000),\n",
       " (43771, 4377100, 43771000),\n",
       " (57224, 5722400, 57224000),\n",
       " (27727, 2772700, 27727000),\n",
       " (41180, 4118000, 41180000),\n",
       " (18054, 1805400, 18054000),\n",
       " (25136, 2513600, 25136000),\n",
       " (51301, 5130100, 51301000),\n",
       " (77763, 7776300, 77763000),\n",
       " (91216, 9121600, 91216000),\n",
       " (48710, 4871000, 48710000),\n",
       " (95194, 9519400, 95194000),\n",
       " (82702, 8270200, 82702000),\n",
       " (33834, 3383400, 33834000),\n",
       " (43532, 4353200, 43532000),\n",
       " (8117, 811700, 8117000),\n",
       " (51782, 5178200, 51782000),\n",
       " (42109, 4210900, 42109000),\n",
       " (26065, 2606500, 26065000),\n",
       " (92364, 9236400, 92364000),\n",
       " (49639, 4963900, 49639000),\n",
       " (33595, 3359500, 33595000),\n",
       " (93532, 9353200, 93532000),\n",
       " (17551, 1755100, 17551000),\n",
       " (77488, 7748800, 77488000),\n",
       " (7878, 787800, 7878000),\n",
       " (85018, 8501800, 85018000),\n",
       " (68974, 6897400, 68974000),\n",
       " (82427, 8242700, 82427000),\n",
       " (59301, 5930100, 59301000),\n",
       " (66383, 6638300, 66383000),\n",
       " (43257, 4325700, 43257000),\n",
       " (27213, 2721300, 27213000),\n",
       " (50787, 5078700, 50787000),\n",
       " (48196, 4819600, 48196000),\n",
       " (84779, 8477900, 84779000),\n",
       " (68735, 6873500, 68735000),\n",
       " (82188, 8218800, 82188000),\n",
       " (33320, 3332000, 33320000),\n",
       " (17276, 1727600, 17276000),\n",
       " (23419, 2341900, 23419000),\n",
       " (73674, 7367400, 73674000),\n",
       " (24806, 2480600, 24806000),\n",
       " (1680, 168000, 1680000),\n",
       " (74842, 7484200, 74842000),\n",
       " (25551, 2555100, 25551000),\n",
       " (58798, 5879800, 58798000),\n",
       " (42754, 4275400, 42754000),\n",
       " (49125, 4912500, 49125000),\n",
       " (33081, 3308100, 33081000),\n",
       " (17037, 1703700, 17037000),\n",
       " (34468, 3446800, 34468000),\n",
       " (40611, 4061100, 40611000),\n",
       " (24567, 2456700, 24567000),\n",
       " (84504, 8450400, 84504000),\n",
       " (8523, 852300, 8523000),\n",
       " (68460, 6846000, 68460000),\n",
       " (9691, 969100, 9691000),\n",
       " (75990, 7599000, 75990000),\n",
       " (59946, 5994600, 59946000),\n",
       " (50273, 5027300, 50273000),\n",
       " (93938, 9393800, 93938000),\n",
       " (58523, 5852300, 58523000),\n",
       " (84265, 8426500, 84265000),\n",
       " (91347, 9134700, 91347000),\n",
       " (68221, 6822100, 68221000),\n",
       " (22905, 2290500, 22905000),\n",
       " (75751, 7575100, 75751000),\n",
       " (6861, 686100, 6861000),\n",
       " (59707, 5970700, 59707000),\n",
       " (24292, 2429200, 24292000),\n",
       " (8248, 824800, 8248000),\n",
       " (14391, 1439100, 14391000),\n",
       " (60875, 6087500, 60875000),\n",
       " (67957, 6795700, 67957000),\n",
       " (74328, 7432800, 74328000),\n",
       " (44831, 4483100, 44831000),\n",
       " (58284, 5828400, 58284000),\n",
       " (42240, 4224000, 42240000),\n",
       " (65814, 6581400, 65814000),\n",
       " (16523, 1652300, 16523000),\n",
       " (49770, 4977000, 49770000),\n",
       " (26644, 2664400, 26644000),\n",
       " (33726, 3372600, 33726000),\n",
       " (40097, 4009700, 40097000),\n",
       " (10600, 1060000, 10600000),\n",
       " (24053, 2405300, 24053000),\n",
       " (8009, 800900, 8009000),\n",
       " (31583, 3158300, 31583000),\n",
       " (58045, 5804500, 58045000),\n",
       " (9177, 917700, 9177000),\n",
       " (85149, 8514900, 85149000),\n",
       " (75476, 7547600, 75476000),\n",
       " (6586, 658600, 6586000),\n",
       " (59432, 5943200, 59432000),\n",
       " (663, 66300, 663000),\n",
       " (93424, 9342400, 93424000),\n",
       " (67707, 6770700, 67707000),\n",
       " (84910, 8491000, 84910000),\n",
       " (8938, 893800, 8938000),\n",
       " (22391, 2239100, 22391000),\n",
       " (55638, 5563800, 55638000),\n",
       " (75237, 7523700, 75237000),\n",
       " (6347, 634700, 6347000),\n",
       " (59193, 5919300, 59193000),\n",
       " (10325, 1032500, 10325000),\n",
       " (67443, 6744300, 67443000),\n",
       " (44317, 4431700, 44317000),\n",
       " (57770, 5777000, 57770000),\n",
       " (91017, 9101700, 91017000),\n",
       " (41726, 4172600, 41726000),\n",
       " (74973, 7497300, 74973000),\n",
       " (51847, 5184700, 51847000),\n",
       " (65300, 6530000, 65300000),\n",
       " (35803, 3580300, 35803000),\n",
       " (49256, 4925600, 49256000),\n",
       " (33212, 3321200, 33212000),\n",
       " (10086, 1008600, 10086000),\n",
       " (56786, 5678600, 56786000),\n",
       " (83248, 8324800, 83248000),\n",
       " (7495, 749500, 7495000),\n",
       " (40742, 4074200, 40742000),\n",
       " (17616, 1761600, 17616000),\n",
       " (57531, 5753100, 57531000),\n",
       " (8663, 866300, 8663000),\n",
       " (84635, 8463500, 84635000),\n",
       " (90778, 9077800, 90778000),\n",
       " (25866, 2586600, 25866000),\n",
       " (92165, 9216500, 92165000),\n",
       " (49017, 4901700, 49017000),\n",
       " (149, 14900, 149000),\n",
       " (92910, 9291000, 92910000),\n",
       " (84396, 8439600, 84396000),\n",
       " (8424, 842400, 8424000),\n",
       " (39080, 3908000, 39080000),\n",
       " (58679, 5867900, 58679000),\n",
       " (91926, 9192600, 91926000),\n",
       " (15954, 1595400, 15954000),\n",
       " (66929, 6692900, 66929000),\n",
       " (77050, 7705000, 77050000),\n",
       " (90503, 9050300, 90503000),\n",
       " (74459, 7445900, 74459000),\n",
       " (51333, 5133300, 51333000),\n",
       " (58415, 5841500, 58415000),\n",
       " (35289, 3528900, 35289000),\n",
       " (48742, 4874200, 48742000),\n",
       " (32698, 3269800, 32698000),\n",
       " (42819, 4281900, 42819000),\n",
       " (56272, 5627200, 56272000),\n",
       " (82734, 8273400, 82734000),\n",
       " (40228, 4022800, 40228000),\n",
       " (17102, 1710200, 17102000),\n",
       " (90264, 9026400, 90264000),\n",
       " (74220, 7422000, 74220000),\n",
       " (25352, 2535200, 25352000),\n",
       " (91651, 9165100, 91651000),\n",
       " (17583, 1758300, 17583000),\n",
       " (83882, 8388200, 83882000),\n",
       " (41157, 4115700, 41157000),\n",
       " (25113, 2511300, 25113000),\n",
       " (38566, 3856600, 38566000),\n",
       " (91412, 9141200, 91412000),\n",
       " (15440, 1544000, 15440000),\n",
       " (22522, 2252200, 22522000),\n",
       " (76536, 7653600, 76536000),\n",
       " (6926, 692600, 6926000),\n",
       " (60492, 6049200, 60492000),\n",
       " (73945, 7394500, 73945000),\n",
       " (50819, 5081900, 50819000),\n",
       " (57901, 5790100, 57901000),\n",
       " (34775, 3477500, 34775000),\n",
       " (68022, 6802200, 68022000),\n",
       " (18731, 1873100, 18731000),\n",
       " (42305, 4230500, 42305000),\n",
       " (26261, 2626100, 26261000),\n",
       " (39714, 3971400, 39714000),\n",
       " (16588, 1658800, 16588000),\n",
       " (76297, 7629700, 76297000),\n",
       " (73706, 7370600, 73706000),\n",
       " (24838, 2483800, 24838000),\n",
       " (77684, 7768400, 77684000),\n",
       " (65192, 6519200, 65192000),\n",
       " (16324, 1632400, 16324000),\n",
       " (42066, 4206600, 42066000),\n",
       " (50316, 5031600, 50316000),\n",
       " (40643, 4064300, 40643000),\n",
       " (24599, 2459900, 24599000),\n",
       " (90898, 9089800, 90898000),\n",
       " (8555, 855500, 8555000),\n",
       " (32129, 3212900, 32129000),\n",
       " (16085, 1608500, 16085000),\n",
       " (76022, 7602200, 76022000),\n",
       " (59978, 5997800, 59978000),\n",
       " (67508, 6750800, 67508000),\n",
       " (51464, 5146400, 51464000),\n",
       " (64917, 6491700, 64917000),\n",
       " (41791, 4179100, 41791000),\n",
       " (25747, 2574700, 25747000),\n",
       " (83313, 8331300, 83313000),\n",
       " (90395, 9039500, 90395000),\n",
       " (67269, 6726900, 67269000),\n",
       " (18401, 1840100, 18401000),\n",
       " (64678, 6467800, 64678000),\n",
       " (15810, 1581000, 15810000),\n",
       " (5909, 590900, 5909000),\n",
       " (49802, 4980200, 49802000),\n",
       " (7296, 729600, 7296000),\n",
       " (33758, 3375800, 33758000),\n",
       " (57332, 5733200, 57332000),\n",
       " (8041, 804100, 8041000),\n",
       " (41288, 4128800, 41288000),\n",
       " (25244, 2524400, 25244000),\n",
       " (31615, 3161500, 31615000),\n",
       " (2118, 211800, 2118000),\n",
       " (15571, 1557100, 15571000),\n",
       " (92711, 9271100, 92711000),\n",
       " (23101, 2310100, 23101000),\n",
       " (49563, 4956300, 49563000),\n",
       " (7057, 705700, 7057000),\n",
       " (66994, 6699400, 66994000),\n",
       " (50950, 5095000, 50950000),\n",
       " (8225, 822500, 8225000),\n",
       " (5634, 563400, 5634000),\n",
       " (58480, 5848000, 58480000),\n",
       " (84942, 8494200, 84942000),\n",
       " (92472, 9247200, 92472000),\n",
       " (89881, 8988100, 89881000),\n",
       " (41013, 4101300, 41013000),\n",
       " (66755, 6675500, 66755000),\n",
       " (17887, 1788700, 17887000),\n",
       " (31112, 3111200, 31112000),\n",
       " (50711, 5071100, 50711000),\n",
       " (5395, 539500, 5395000),\n",
       " (9373, 937300, 9373000),\n",
       " (82535, 8253500, 82535000),\n",
       " (6782, 678200, 6782000),\n",
       " (33244, 3324400, 33244000),\n",
       " (66491, 6649100, 66491000),\n",
       " (86090, 8609000, 86090000),\n",
       " (43365, 4336500, 43365000),\n",
       " (56818, 5681800, 56818000),\n",
       " (27321, 2732100, 27321000),\n",
       " (40774, 4077400, 40774000),\n",
       " (24730, 2473000, 24730000),\n",
       " (48304, 4830400, 48304000),\n",
       " (32260, 3226000, 32260000),\n",
       " (72175, 7217500, 72175000),\n",
       " (92197, 9219700, 92197000),\n",
       " (9134, 913400, 9134000),\n",
       " (16216, 1621600, 16216000),\n",
       " (22587, 2258700, 22587000),\n",
       " (49049, 4904900, 49049000),\n",
       " (6543, 654300, 6543000),\n",
       " (82296, 8229600, 82296000),\n",
       " (83683, 8368300, 83683000),\n",
       " (40535, 4053500, 40535000),\n",
       " (57966, 5796600, 57966000),\n",
       " (84428, 8442800, 84428000),\n",
       " (91958, 9195800, 91958000),\n",
       " (75914, 7591400, 75914000),\n",
       " (30598, 3059800, 30598000),\n",
       " (83444, 8344400, 83444000),\n",
       " (7472, 747200, 7472000),\n",
       " (14554, 1455400, 14554000),\n",
       " (80853, 8085300, 80853000),\n",
       " (4881, 488100, 4881000),\n",
       " (68568, 6856800, 68568000),\n",
       " (82021, 8202100, 82021000),\n",
       " (65977, 6597700, 65977000),\n",
       " (49933, 4993300, 49933000),\n",
       " (26807, 2680700, 26807000),\n",
       " (73507, 7350700, 73507000),\n",
       " (24216, 2421600, 24216000),\n",
       " (50381, 5038100, 50381000),\n",
       " (57463, 5746300, 57463000),\n",
       " (34337, 3433700, 34337000),\n",
       " (47790, 4779000, 47790000),\n",
       " (18293, 1829300, 18293000),\n",
       " (31746, 3174600, 31746000),\n",
       " (15702, 1570200, 15702000),\n",
       " (81782, 8178200, 81782000),\n",
       " (39276, 3927600, 39276000),\n",
       " (65738, 6573800, 65738000),\n",
       " (85760, 8576000, 85760000),\n",
       " (83169, 8316900, 83169000),\n",
       " (40021, 4002100, 40021000),\n",
       " (67125, 6712500, 67125000),\n",
       " (73268, 7326800, 73268000),\n",
       " (24400, 2440000, 24400000),\n",
       " (8356, 835600, 8356000),\n",
       " (31507, 3150700, 31507000),\n",
       " (75400, 7540000, 75400000),\n",
       " (92603, 9260300, 92603000),\n",
       " (16631, 1663100, 16631000),\n",
       " (30084, 3008400, 30084000),\n",
       " (82930, 8293000, 82930000),\n",
       " (6958, 695800, 6958000),\n",
       " (14040, 1404000, 14040000),\n",
       " (66886, 6688600, 66886000),\n",
       " (68054, 6805400, 68054000),\n",
       " (25548, 2554800, 25548000),\n",
       " (65463, 6546300, 65463000),\n",
       " (49419, 4941900, 49419000),\n",
       " (75584, 7558400, 75584000),\n",
       " (59540, 5954000, 59540000),\n",
       " (72993, 7299300, 72993000),\n",
       " (49867, 4986700, 49867000),\n",
       " (56949, 5694900, 56949000),\n",
       " (33823, 3382300, 33823000),\n",
       " (40905, 4090500, 40905000),\n",
       " (17779, 1777900, 17779000),\n",
       " (31232, 3123200, 31232000),\n",
       " (90941, 9094100, 90941000),\n",
       " (15188, 1518800, 15188000),\n",
       " (41353, 4135300, 41353000),\n",
       " (81268, 8126800, 81268000),\n",
       " (38762, 3876200, 38762000),\n",
       " (65224, 6522400, 65224000),\n",
       " (16356, 1635600, 16356000),\n",
       " (72754, 7275400, 72754000),\n",
       " (56710, 5671000, 56710000),\n",
       " (76732, 7673200, 76732000),\n",
       " (7842, 784200, 7842000),\n",
       " (94680, 9468000, 94680000),\n",
       " (92089, 9208900, 92089000),\n",
       " (16117, 1611700, 16117000),\n",
       " (66372, 6637200, 66372000),\n",
       " (23647, 2364700, 23647000),\n",
       " (89946, 8994600, 89946000),\n",
       " (7603, 760300, 7603000),\n",
       " (21056, 2105600, 21056000),\n",
       " (67540, 6754000, 67540000),\n",
       " (59026, 5902600, 59026000),\n",
       " (42982, 4298200, 42982000),\n",
       " (56435, 5643500, 56435000),\n",
       " (33309, 3330900, 33309000),\n",
       " (40391, 4039100, 40391000),\n",
       " (66556, 6655600, 66556000),\n",
       " (17265, 1726500, 17265000),\n",
       " (50512, 5051200, 50512000),\n",
       " (63965, 6396500, 63965000),\n",
       " (90427, 9042700, 90427000),\n",
       " (24795, 2479500, 24795000),\n",
       " (81913, 8191300, 81913000),\n",
       " (58787, 5878700, 58787000),\n",
       " (72240, 7224000, 72240000),\n",
       " (56196, 5619600, 56196000),\n",
       " (7328, 732800, 7328000),\n",
       " (47682, 4768200, 47682000),\n",
       " (91575, 9157500, 91575000),\n",
       " (48850, 4885000, 48850000),\n",
       " (62303, 6230300, 62303000),\n",
       " (32806, 3280600, 32806000),\n",
       " (23133, 2313300, 23133000),\n",
       " (7089, 708900, 7089000),\n",
       " (84229, 8422900, 84229000),\n",
       " (14619, 1461900, 14619000),\n",
       " (81638, 8163800, 81638000),\n",
       " (58512, 5851200, 58512000),\n",
       " (91759, 9175900, 91759000),\n",
       " (42468, 4246800, 42468000),\n",
       " (48611, 4861100, 48611000),\n",
       " (49998, 4999800, 49998000),\n",
       " (63451, 6345100, 63451000),\n",
       " (33954, 3395400, 33954000),\n",
       " (47407, 4740700, 47407000),\n",
       " (24281, 2428100, 24281000),\n",
       " (57528, 5752800, 57528000),\n",
       " (83990, 8399000, 83990000),\n",
       " (81399, 8139900, 81399000),\n",
       " (88929, 8892900, 88929000),\n",
       " (65803, 6580300, 65803000),\n",
       " (72885, 7288500, 72885000),\n",
       " (49759, 4975900, 49759000),\n",
       " (891, 89100, 891000),\n",
       " (47168, 4716800, 47168000),\n",
       " (24762, 2476200, 24762000),\n",
       " (58009, 5800900, 58009000),\n",
       " (48336, 4833600, 48336000),\n",
       " (32292, 3229200, 32292000),\n",
       " (39822, 3982200, 39822000),\n",
       " (23778, 2377800, 23778000),\n",
       " (83715, 8371500, 83715000),\n",
       " (14105, 1410500, 14105000),\n",
       " (71223, 7122300, 71223000),\n",
       " (48097, 4809700, 48097000),\n",
       " (75201, 7520100, 75201000),\n",
       " (5591, 559100, 5591000),\n",
       " (49484, 4948400, 49484000),\n",
       " (33440, 3344000, 33440000),\n",
       " (39583, 3958300, 39583000),\n",
       " (83476, 8347600, 83476000),\n",
       " (91006, 9100600, 91006000),\n",
       " (74962, 7496200, 74962000),\n",
       " (88415, 8841500, 88415000),\n",
       " (72371, 7237100, 72371000),\n",
       " (65289, 6528900, 65289000),\n",
       " (23503, 2350300, 23503000),\n",
       " (29646, 2964600, 29646000),\n",
       " (49245, 4924500, 49245000),\n",
       " (377, 37700, 377000),\n",
       " (6520, 652000, 6520000),\n",
       " (13602, 1360200, 13602000),\n",
       " (57495, 5749500, 57495000),\n",
       " (65025, 6502500, 65025000),\n",
       " (15734, 1573400, 15734000),\n",
       " (41899, 4189900, 41899000),\n",
       " (48981, 4898100, 48981000),\n",
       " (25855, 2585500, 25855000),\n",
       " (39308, 3930800, 39308000),\n",
       " (9811, 981100, 9811000),\n",
       " (23264, 2326400, 23264000),\n",
       " (30794, 3079400, 30794000),\n",
       " (70709, 7070900, 70709000),\n",
       " (7668, 766800, 7668000),\n",
       " (14750, 1475000, 14750000),\n",
       " (74687, 7468700, 74687000),\n",
       " (80830, 8083000, 80830000),\n",
       " (5077, 507700, 5077000),\n",
       " (64786, 6478600, 64786000),\n",
       " (15918, 1591800, 15918000),\n",
       " (66173, 6617300, 66173000),\n",
       " (90492, 9049200, 90492000),\n",
       " (74448, 7444800, 74448000),\n",
       " (5558, 555800, 5558000),\n",
       " (29132, 2913200, 29132000),\n",
       " (81978, 8197800, 81978000),\n",
       " (6006, 600600, 6006000),\n",
       " (13088, 1308800, 13088000),\n",
       " (79387, 7938700, 79387000),\n",
       " (56981, 5698100, 56981000),\n",
       " (90228, 9022800, 90228000),\n",
       " (40937, 4093700, 40937000),\n",
       " (67102, 6710200, 67102000),\n",
       " (51058, 5105800, 51058000),\n",
       " (64511, 6451100, 64511000),\n",
       " (48467, 4846700, 48467000),\n",
       " (25341, 2534100, 25341000),\n",
       " (32423, 3242300, 32423000),\n",
       " (9297, 929700, 9297000),\n",
       " (55997, 5599700, 55997000),\n",
       " (6706, 670600, 6706000),\n",
       " (32871, 3287100, 32871000),\n",
       " (16827, 1682700, 16827000),\n",
       " (30280, 3028000, 30280000),\n",
       " (56742, 5674200, 56742000),\n",
       " (89989, 8998900, 89989000),\n",
       " (14236, 1423600, 14236000),\n",
       " (64272, 6427200, 64272000),\n",
       " (15404, 1540400, 15404000),\n",
       " (68250, 6825000, 68250000),\n",
       " (65659, 6565900, 65659000),\n",
       " (92121, 9212100, 92121000),\n",
       " (22511, 2251100, 22511000),\n",
       " (55758, 5575800, 55758000),\n",
       " (6890, 689000, 6890000),\n",
       " (31209, 3120900, 31209000),\n",
       " (57890, 5789000, 57890000),\n",
       " (91137, 9113700, 91137000),\n",
       " (15165, 1516500, 15165000),\n",
       " (28618, 2861800, 28618000),\n",
       " (81464, 8146400, 81464000),\n",
       " (12574, 1257400, 12574000),\n",
       " (89714, 8971400, 89714000),\n",
       " (20104, 2010400, 20104000),\n",
       " (66588, 6658800, 66588000),\n",
       " (73670, 7367000, 73670000),\n",
       " (50544, 5054400, 50544000),\n",
       " (47953, 4795300, 47953000),\n",
       " (31909, 3190900, 31909000),\n",
       " (38052, 3805200, 38052000),\n",
       " (58074, 5807400, 58074000),\n",
       " (8783, 878300, 8783000),\n",
       " (42030, 4203000, 42030000),\n",
       " (55483, 5548300, 55483000),\n",
       " (32357, 3235700, 32357000),\n",
       " (39439, 3943900, 39439000),\n",
       " (16313, 1631300, 16313000),\n",
       " (89475, 8947500, 89475000),\n",
       " (13722, 1372200, 13722000),\n",
       " (73431, 7343100, 73431000),\n",
       " (63758, 6375800, 63758000),\n",
       " (90862, 9086200, 90862000),\n",
       " (47714, 4771400, 47714000),\n",
       " (55244, 5524400, 55244000),\n",
       " (6376, 637600, 6376000),\n",
       " (83093, 8309300, 83093000),\n",
       " (24324, 2432400, 24324000),\n",
       " (37777, 3777700, 37777000),\n",
       " (77170, 7717000, 77170000),\n",
       " (14651, 1465100, 14651000),\n",
       " (90623, 9062300, 90623000),\n",
       " (22181, 2218100, 22181000),\n",
       " (6137, 613700, 6137000),\n",
       " (73156, 7315600, 73156000),\n",
       " (3546, 354600, 3546000),\n",
       " (50030, 5003000, 50030000),\n",
       " (83277, 8327700, 83277000),\n",
       " (40129, 4012900, 40129000),\n",
       " (80686, 8068600, 80686000),\n",
       " (37538, 3753800, 37538000),\n",
       " (57560, 5756000, 57560000),\n",
       " (41516, 4151600, 41516000),\n",
       " (31843, 3184300, 31843000),\n",
       " (38925, 3892500, 38925000),\n",
       " (15799, 1579900, 15799000),\n",
       " (22881, 2288100, 22881000),\n",
       " (49046, 4904600, 49046000),\n",
       " (75508, 7550800, 75508000),\n",
       " (88961, 8896100, 88961000),\n",
       " (72917, 7291700, 72917000),\n",
       " (80447, 8044700, 80447000),\n",
       " (31579, 3157900, 31579000),\n",
       " (64403, 6440300, 64403000),\n",
       " (41277, 4127700, 41277000),\n",
       " (54730, 5473000, 54730000),\n",
       " (87977, 8797700, 87977000),\n",
       " (38686, 3868600, 38686000),\n",
       " (23810, 2381000, 23810000),\n",
       " (90109, 9010900, 90109000),\n",
       " (47384, 4738400, 47384000),\n",
       " (74065, 7406500, 74065000),\n",
       " (31340, 3134000, 31340000),\n",
       " (15296, 1529600, 15296000),\n",
       " (21667, 2166700, 21667000),\n",
       " (5623, 562300, 5623000),\n",
       " (82763, 8276300, 82763000),\n",
       " (13153, 1315300, 13153000),\n",
       " (39615, 3961500, 39615000),\n",
       " (80172, 8017200, 80172000),\n",
       " (57046, 5704600, 57046000),\n",
       " (89870, 8987000, 89870000),\n",
       " (41002, 4100200, 41002000),\n",
       " (74249, 7424900, 74249000),\n",
       " (24958, 2495800, 24958000),\n",
       " (31101, 3110100, 31101000),\n",
       " (58205, 5820500, 58205000),\n",
       " (48532, 4853200, 48532000),\n",
       " (82524, 8252400, 82524000),\n",
       " (89606, 8960600, 89606000),\n",
       " (95977, 9597700, 95977000),\n",
       " (66480, 6648000, 66480000),\n",
       " (79933, 7993300, 79933000),\n",
       " (63889, 6388900, 63889000),\n",
       " (5120, 512000, 5120000),\n",
       " (71419, 7141900, 71419000),\n",
       " (48293, 4829300, 48293000),\n",
       " (56543, 5654300, 56543000),\n",
       " (40499, 4049900, 40499000),\n",
       " (17373, 1737300, 17373000),\n",
       " (30826, 3082600, 30826000),\n",
       " (14782, 1478200, 14782000),\n",
       " (38356, 3835600, 38356000),\n",
       " (22312, 2231200, 22312000),\n",
       " (6268, 626800, 6268000),\n",
       " (39101, 3910100, 39101000),\n",
       " (66205, 6620500, 66205000),\n",
       " (72348, 7234800, 72348000),\n",
       " (56304, 5630400, 56304000),\n",
       " (73735, 7373500, 73735000),\n",
       " (30587, 3058700, 30587000),\n",
       " (57691, 5769100, 57691000),\n",
       " (31974, 3197400, 31974000),\n",
       " (91683, 9168300, 91683000),\n",
       " (22073, 2207300, 22073000),\n",
       " (82010, 8201000, 82010000),\n",
       " (89092, 8909200, 89092000),\n",
       " (65966, 6596600, 65966000),\n",
       " (89540, 8954000, 89540000),\n",
       " (73496, 7349600, 73496000),\n",
       " (4606, 460600, 4606000),\n",
       " (57452, 5745200, 57452000),\n",
       " (70905, 7090500, 70905000),\n",
       " (47779, 4777900, 47779000),\n",
       " (54861, 5486100, 54861000),\n",
       " (12136, 1213600, 12136000),\n",
       " (58620, 5862000, 58620000),\n",
       " (56029, 5602900, 56029000),\n",
       " (39985, 3998500, 39985000),\n",
       " (63559, 6355900, 63559000),\n",
       " (47515, 4751500, 47515000),\n",
       " (24389, 2438900, 24389000),\n",
       " (31471, 3147100, 31471000),\n",
       " (8345, 834500, 8345000),\n",
       " (21798, 2179800, 21798000),\n",
       " (81507, 8150700, 81507000),\n",
       " (5754, 575400, 5754000),\n",
       " (71834, 7183400, 71834000),\n",
       " (29328, 2932800, 29328000),\n",
       " (55790, 5579000, 55790000),\n",
       " (53199, 5319900, 53199000),\n",
       " (30073, 3007300, 30073000),\n",
       " (57177, 5717700, 57177000),\n",
       " (63320, 6332000, 63320000),\n",
       " (90424, 9042400, 90424000),\n",
       " (47276, 4727600, 47276000),\n",
       " (64707, 6470700, 64707000),\n",
       " (91169, 9116900, 91169000),\n",
       " (82655, 8265500, 82655000),\n",
       " (6683, 668300, 6683000),\n",
       " (89026, 8902600, 89026000),\n",
       " (72982, 7298200, 72982000),\n",
       " (4092, 409200, 4092000),\n",
       " (56938, 5693800, 56938000),\n",
       " (80512, 8051200, 80512000),\n",
       " (11622, 1162200, 11622000),\n",
       " (42062, 4206200, 42062000),\n",
       " (72718, 7271800, 72718000),\n",
       " (49592, 4959200, 49592000),\n",
       " (33548, 3354800, 33548000),\n",
       " (47001, 4700100, 47001000),\n",
       " (30957, 3095700, 30957000),\n",
       " (7831, 783100, 7831000),\n",
       " (38487, 3848700, 38487000),\n",
       " (71320, 7132000, 71320000),\n",
       " (15361, 1536100, 15361000),\n",
       " (55276, 5527600, 55276000),\n",
       " (88523, 8852300, 88523000),\n",
       " (12770, 1277000, 12770000),\n",
       " (72479, 7247900, 72479000),\n",
       " (46762, 4676200, 46762000),\n",
       " (38248, 3824800, 38248000),\n",
       " (15842, 1584200, 15842000),\n",
       " (82141, 8214100, 82141000),\n",
       " (6169, 616900, 6169000),\n",
       " (13251, 1325100, 13251000),\n",
       " (36825, 3682500, 36825000),\n",
       " (89671, 8967100, 89671000),\n",
       " (13699, 1369900, 13699000),\n",
       " (11108, 1110800, 11108000),\n",
       " (74795, 7479500, 74795000),\n",
       " (72204, 7220400, 72204000),\n",
       " (49078, 4907800, 49078000),\n",
       " (56160, 5616000, 56160000),\n",
       " (33034, 3303400, 33034000),\n",
       " (30443, 3044300, 30443000),\n",
       " (89432, 8943200, 89432000),\n",
       " (40564, 4056400, 40564000),\n",
       " (24520, 2452000, 24520000),\n",
       " (37973, 3797300, 37973000),\n",
       " (14847, 1484700, 14847000),\n",
       " (21929, 2192900, 21929000),\n",
       " (88009, 8800900, 88009000),\n",
       " (71965, 7196500, 71965000),\n",
       " (46248, 4624800, 46248000),\n",
       " (73352, 7335200, 73352000),\n",
       " (79495, 7949500, 79495000),\n",
       " (37734, 3773400, 37734000),\n",
       " (38902, 3890200, 38902000),\n",
       " (22858, 2285800, 22858000),\n",
       " (36311, 3631100, 36311000),\n",
       " (75704, 7570400, 75704000),\n",
       " (6814, 681400, 6814000),\n",
       " ...}"
      ]
     },
     "execution_count": 146,
     "metadata": {},
     "output_type": "execute_result"
    }
   ],
   "source": [
    "tttt"
   ]
  },
  {
   "cell_type": "code",
   "execution_count": 153,
   "id": "3b0db2f9-c77f-4678-8bbe-ce66a407ffe9",
   "metadata": {
    "execution": {
     "iopub.execute_input": "2022-07-11T17:46:20.092251Z",
     "iopub.status.busy": "2022-07-11T17:46:20.092045Z",
     "iopub.status.idle": "2022-07-11T17:46:26.807255Z",
     "shell.execute_reply": "2022-07-11T17:46:26.806595Z",
     "shell.execute_reply.started": "2022-07-11T17:46:20.092235Z"
    },
    "tags": []
   },
   "outputs": [
    {
     "name": "stdout",
     "output_type": "stream",
     "text": [
      "82.6 ns ± 0.544 ns per loop (mean ± std. dev. of 7 runs, 10,000,000 loops each)\n"
     ]
    }
   ],
   "source": [
    "%timeit ttt[100] in tttt"
   ]
  },
  {
   "cell_type": "code",
   "execution_count": 152,
   "id": "703c1502-aec6-4928-a0fe-338c3b7416d2",
   "metadata": {
    "execution": {
     "iopub.execute_input": "2022-07-11T17:45:54.892762Z",
     "iopub.status.busy": "2022-07-11T17:45:54.892586Z",
     "iopub.status.idle": "2022-07-11T17:46:05.225820Z",
     "shell.execute_reply": "2022-07-11T17:46:05.225097Z",
     "shell.execute_reply.started": "2022-07-11T17:45:54.892745Z"
    },
    "tags": []
   },
   "outputs": [
    {
     "name": "stdout",
     "output_type": "stream",
     "text": [
      "1.27 µs ± 2.48 ns per loop (mean ± std. dev. of 7 runs, 1,000,000 loops each)\n"
     ]
    }
   ],
   "source": [
    "%timeit ttt[100] in ttt"
   ]
  },
  {
   "cell_type": "code",
   "execution_count": null,
   "id": "722d073d-de59-4ed5-82b6-f1e5bb43278d",
   "metadata": {},
   "outputs": [],
   "source": []
  }
 ],
 "metadata": {
  "kernelspec": {
   "display_name": "Python 3.8.10 ('venv')",
   "language": "python",
   "name": "python3"
  },
  "language_info": {
   "codemirror_mode": {
    "name": "ipython",
    "version": 3
   },
   "file_extension": ".py",
   "mimetype": "text/x-python",
   "name": "python",
   "nbconvert_exporter": "python",
   "pygments_lexer": "ipython3",
   "version": "3.8.10"
  },
  "vscode": {
   "interpreter": {
    "hash": "c53e085c35f321fddf126a644552d53df5dbec8a70ca5c68bab4eb2d1aa976f1"
   }
  },
  "widgets": {
   "application/vnd.jupyter.widget-state+json": {
    "state": {},
    "version_major": 2,
    "version_minor": 0
   }
  }
 },
 "nbformat": 4,
 "nbformat_minor": 5
}
