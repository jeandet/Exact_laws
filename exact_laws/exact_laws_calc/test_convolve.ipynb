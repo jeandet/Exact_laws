{
 "cells": [
  {
   "cell_type": "code",
   "execution_count": 1,
   "metadata": {},
   "outputs": [],
   "source": [
    "from scipy.ndimage import convolve\n",
    "from scipy._distributor_init import \n",
    "import numpy as np\n"
   ]
  },
  {
   "cell_type": "code",
   "execution_count": 14,
   "metadata": {},
   "outputs": [],
   "source": [
    "A = np.random.random((32,32,32))\n",
    "B = np.random.random((32,32,32))\n"
   ]
  },
  {
   "cell_type": "code",
   "execution_count": 15,
   "metadata": {},
   "outputs": [],
   "source": [
    "C = convolve(A,B,mode='wrap')"
   ]
  },
  {
   "cell_type": "code",
   "execution_count": 5,
   "metadata": {},
   "outputs": [
    {
     "name": "stdout",
     "output_type": "stream",
     "text": [
      "7.15 ns ± 0.0524 ns per loop (mean ± std. dev. of 7 runs, 100000000 loops each)\n"
     ]
    }
   ],
   "source": [
    "%timeit 1+2"
   ]
  },
  {
   "cell_type": "code",
   "execution_count": 24,
   "metadata": {},
   "outputs": [
    {
     "name": "stdout",
     "output_type": "stream",
     "text": [
      "7.73 ns ± 0.205 ns per loop (mean ± std. dev. of 7 runs, 100000000 loops each)\n"
     ]
    }
   ],
   "source": [
    "%timeit 5*6"
   ]
  },
  {
   "cell_type": "code",
   "execution_count": 26,
   "metadata": {},
   "outputs": [],
   "source": [
    "import timeit"
   ]
  },
  {
   "cell_type": "code",
   "execution_count": 23,
   "metadata": {},
   "outputs": [
    {
     "data": {
      "text/plain": [
       "5.712328294483124"
      ]
     },
     "execution_count": 23,
     "metadata": {},
     "output_type": "execute_result"
    }
   ],
   "source": [
    "1e-8 * 512**6 /60 /60 /24 /365"
   ]
  },
  {
   "cell_type": "code",
   "execution_count": 20,
   "metadata": {},
   "outputs": [
    {
     "data": {
      "text/plain": [
       "4660.337777777778"
      ]
     },
     "execution_count": 20,
     "metadata": {},
     "output_type": "execute_result"
    }
   ],
   "source": [
    "24*16**6 /60 /60 /24"
   ]
  },
  {
   "cell_type": "code",
   "execution_count": 32,
   "metadata": {},
   "outputs": [],
   "source": [
    "def foo(A):\n",
    "    convolve(A,A,mode='wrap')\n",
    "    return 42\n"
   ]
  },
  {
   "cell_type": "code",
   "execution_count": 78,
   "metadata": {},
   "outputs": [
    {
     "name": "stdout",
     "output_type": "stream",
     "text": [
      "141 µs ± 0 ns per loop (mean ± std. dev. of 1 run, 1 loop each)\n",
      "89.9 µs ± 0 ns per loop (mean ± std. dev. of 1 run, 1 loop each)\n",
      "97.2 µs ± 0 ns per loop (mean ± std. dev. of 1 run, 1 loop each)\n",
      "379 µs ± 0 ns per loop (mean ± std. dev. of 1 run, 1 loop each)\n",
      "377 µs ± 0 ns per loop (mean ± std. dev. of 1 run, 1 loop each)\n",
      "1.21 ms ± 0 ns per loop (mean ± std. dev. of 1 run, 1 loop each)\n",
      "3.6 ms ± 0 ns per loop (mean ± std. dev. of 1 run, 1 loop each)\n",
      "6.44 ms ± 0 ns per loop (mean ± std. dev. of 1 run, 1 loop each)\n",
      "16.8 ms ± 0 ns per loop (mean ± std. dev. of 1 run, 1 loop each)\n",
      "26.5 ms ± 0 ns per loop (mean ± std. dev. of 1 run, 1 loop each)\n",
      "57.7 ms ± 0 ns per loop (mean ± std. dev. of 1 run, 1 loop each)\n",
      "75 ms ± 0 ns per loop (mean ± std. dev. of 1 run, 1 loop each)\n",
      "115 ms ± 0 ns per loop (mean ± std. dev. of 1 run, 1 loop each)\n",
      "179 ms ± 0 ns per loop (mean ± std. dev. of 1 run, 1 loop each)\n",
      "258 ms ± 0 ns per loop (mean ± std. dev. of 1 run, 1 loop each)\n",
      "405 ms ± 0 ns per loop (mean ± std. dev. of 1 run, 1 loop each)\n",
      "598 ms ± 0 ns per loop (mean ± std. dev. of 1 run, 1 loop each)\n",
      "932 ms ± 0 ns per loop (mean ± std. dev. of 1 run, 1 loop each)\n",
      "1.28 s ± 0 ns per loop (mean ± std. dev. of 1 run, 1 loop each)\n",
      "1.44 s ± 0 ns per loop (mean ± std. dev. of 1 run, 1 loop each)\n",
      "1.92 s ± 0 ns per loop (mean ± std. dev. of 1 run, 1 loop each)\n",
      "2.56 s ± 0 ns per loop (mean ± std. dev. of 1 run, 1 loop each)\n",
      "3.36 s ± 0 ns per loop (mean ± std. dev. of 1 run, 1 loop each)\n",
      "4.38 s ± 0 ns per loop (mean ± std. dev. of 1 run, 1 loop each)\n",
      "5.61 s ± 0 ns per loop (mean ± std. dev. of 1 run, 1 loop each)\n",
      "7.16 s ± 0 ns per loop (mean ± std. dev. of 1 run, 1 loop each)\n",
      "8.74 s ± 0 ns per loop (mean ± std. dev. of 1 run, 1 loop each)\n",
      "11.3 s ± 0 ns per loop (mean ± std. dev. of 1 run, 1 loop each)\n",
      "13.6 s ± 0 ns per loop (mean ± std. dev. of 1 run, 1 loop each)\n",
      "17.7 s ± 0 ns per loop (mean ± std. dev. of 1 run, 1 loop each)\n",
      "21.3 s ± 0 ns per loop (mean ± std. dev. of 1 run, 1 loop each)\n",
      "24 s ± 0 ns per loop (mean ± std. dev. of 1 run, 1 loop each)\n",
      "28.9 s ± 0 ns per loop (mean ± std. dev. of 1 run, 1 loop each)\n",
      "34.6 s ± 0 ns per loop (mean ± std. dev. of 1 run, 1 loop each)\n",
      "40.5 s ± 0 ns per loop (mean ± std. dev. of 1 run, 1 loop each)\n",
      "50.2 s ± 0 ns per loop (mean ± std. dev. of 1 run, 1 loop each)\n",
      "57.1 s ± 0 ns per loop (mean ± std. dev. of 1 run, 1 loop each)\n",
      "1min 6s ± 0 ns per loop (mean ± std. dev. of 1 run, 1 loop each)\n",
      "1min 17s ± 0 ns per loop (mean ± std. dev. of 1 run, 1 loop each)\n"
     ]
    },
    {
     "data": {
      "image/png": "[encoded data removed]",
      "text/plain": [
       "<Figure size 432x288 with 1 Axes>"
      ]
     },
     "metadata": {
      "needs_background": "light"
     },
     "output_type": "display_data"
    }
   ],
   "source": [
    "N = np.arange(1,40,1)\n",
    "T = []\n",
    "for n in N:\n",
    "    A = np.random.random((n,n,n))\n",
    "    B = np.random.random((n,n,n))\n",
    "    t = %timeit -n1 -r1 -o convolve(A,B,mode='wrap')\n",
    "    T.append(t.best)\n"
   ]
  },
  {
   "cell_type": "code",
   "execution_count": 98,
   "metadata": {},
   "outputs": [
    {
     "data": {
      "image/png": "[encoded data removed]",
      "text/plain": [
       "<Figure size 432x288 with 1 Axes>"
      ]
     },
     "metadata": {
      "needs_background": "light"
     },
     "output_type": "display_data"
    }
   ],
   "source": [
    "T = np.array(T)\n",
    "import matplotlib.pyplot as plt\n",
    "plt.figure()\n",
    "plt.plot(N,T,'.')\n",
    "plt.plot(N[1:],(T[1:]-T[:-1]))\n",
    "plt.plot(N[2:],(T[1:]-T[:-1])[1:]-(T[1:]-T[:-1])[:-1])\n",
    "plt.show()"
   ]
  },
  {
   "cell_type": "code",
   "execution_count": null,
   "metadata": {},
   "outputs": [],
   "source": [
    "N = [1,2,3,4,5,6,7,8,9,10]\n",
    "for n in N:\n",
    "    A = np.array((n,n,n))\n",
    "    t = "
   ]
  }
 ],
 "metadata": {
  "kernelspec": {
   "display_name": "Python 3.8.10 ('venv')",
   "language": "python",
   "name": "python3"
  },
  "language_info": {
   "codemirror_mode": {
    "name": "ipython",
    "version": 3
   },
   "file_extension": ".py",
   "mimetype": "text/x-python",
   "name": "python",
   "nbconvert_exporter": "python",
   "pygments_lexer": "ipython3",
   "version": "3.8.10"
  },
  "orig_nbformat": 4,
  "vscode": {
   "interpreter": {
    "hash": "c53e085c35f321fddf126a644552d53df5dbec8a70ca5c68bab4eb2d1aa976f1"
   }
  }
 },
 "nbformat": 4,
 "nbformat_minor": 2
}
